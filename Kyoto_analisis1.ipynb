{
 "cells": [
  {
   "cell_type": "code",
   "execution_count": 2,
   "id": "05400100",
   "metadata": {},
   "outputs": [],
   "source": [
    "import pandas as pd \n",
    "import numpy as np\n",
    "import sklearn"
   ]
  },
  {
   "cell_type": "code",
   "execution_count": 3,
   "id": "ee5b2640-57f5-4553-90d5-e444a9c5e07b",
   "metadata": {},
   "outputs": [
    {
     "name": "stdout",
     "output_type": "stream",
     "text": [
      "1.0.1\n"
     ]
    }
   ],
   "source": [
    "import sklearn\n",
    "print(sklearn.__version__)"
   ]
  },
  {
   "cell_type": "code",
   "execution_count": 4,
   "id": "50348ea7-cfe2-400c-806b-a6912f93f471",
   "metadata": {},
   "outputs": [],
   "source": [
    "import time\n",
    "def timing(f):\n",
    "    def wrap(*args, **kwargs):\n",
    "        time1 = time.time()\n",
    "        ret = f(*args, **kwargs)\n",
    "        time2 = time.time()\n",
    "        print('{:s} function took {:.3f} ms'.format(f.__name__, (time2-time1)*1000.0))\n",
    "\n",
    "        return ret\n",
    "    return wrap"
   ]
  },
  {
   "cell_type": "markdown",
   "id": "1ee316fd-598c-4e4c-927d-09175e941af5",
   "metadata": {},
   "source": [
    "# Load data and x/y"
   ]
  },
  {
   "cell_type": "code",
   "execution_count": 5,
   "id": "f53b12d8-369b-44a1-8b9f-0235bf69aad2",
   "metadata": {},
   "outputs": [],
   "source": [
    "all_data = pd.read_csv(\"preparedData03-06_15.csv\")"
   ]
  },
  {
   "cell_type": "code",
   "execution_count": 6,
   "id": "5708527d-0663-4937-852d-bfca10d5bb79",
   "metadata": {},
   "outputs": [],
   "source": [
    "all_data.drop('Unnamed: 0', axis=1, inplace=True)"
   ]
  },
  {
   "cell_type": "code",
   "execution_count": 7,
   "id": "250b68dd-991f-4af2-b8de-b9ed8b970ab2",
   "metadata": {},
   "outputs": [],
   "source": [
    "all_data = all_data.drop_duplicates()"
   ]
  },
  {
   "cell_type": "code",
   "execution_count": 8,
   "id": "55e51827-1ab0-4851-a13c-648d7dcce0fb",
   "metadata": {},
   "outputs": [
    {
     "data": {
      "text/plain": [
       "(4994457, 39)"
      ]
     },
     "execution_count": 8,
     "metadata": {},
     "output_type": "execute_result"
    }
   ],
   "source": [
    "all_data.shape"
   ]
  },
  {
   "cell_type": "code",
   "execution_count": 9,
   "id": "79819f8d-cb14-45d7-be48-d1b5c4311474",
   "metadata": {},
   "outputs": [],
   "source": [
    "X = all_data.drop(\"Label\",axis = 1)\n",
    "y =  all_data.Label"
   ]
  },
  {
   "cell_type": "code",
   "execution_count": 10,
   "id": "5eaedef5-6b49-4cce-bad5-fc56903f39f8",
   "metadata": {},
   "outputs": [],
   "source": [
    "from sklearn.model_selection import train_test_split\n",
    "X_train, X_test, y_train, y_test = train_test_split(X, y, test_size=0.08, random_state=42)"
   ]
  },
  {
   "cell_type": "code",
   "execution_count": 11,
   "id": "76aa1576-8915-4f7f-ab01-89e221248976",
   "metadata": {},
   "outputs": [
    {
     "name": "stdout",
     "output_type": "stream",
     "text": [
      "37391 / 399557\n"
     ]
    }
   ],
   "source": [
    "print(str(sum(y_test)) + \" / \" + str(len(y_test)))"
   ]
  },
  {
   "cell_type": "code",
   "execution_count": 12,
   "id": "8f49f10b-a780-47fd-8651-8f1626e48bc0",
   "metadata": {},
   "outputs": [
    {
     "name": "stdout",
     "output_type": "stream",
     "text": [
      "430332 / 4594900\n"
     ]
    }
   ],
   "source": [
    "print(str(sum(y_train)) + \" / \" + str(len(y_train)))"
   ]
  },
  {
   "cell_type": "markdown",
   "id": "dc3fc29f-fa39-45f4-9ec4-ba40dfbc7244",
   "metadata": {},
   "source": [
    "## train"
   ]
  },
  {
   "cell_type": "code",
   "execution_count": 13,
   "id": "514bd3df-36df-4089-b1b8-97d6c69c7482",
   "metadata": {},
   "outputs": [],
   "source": [
    "@timing\n",
    "def train_model(model,X_train, y_train):\n",
    "    model.fit(X_train, y_train)\n",
    "    return model"
   ]
  },
  {
   "cell_type": "code",
   "execution_count": 14,
   "id": "29fb85d3-da74-476a-a80d-84762eec667d",
   "metadata": {},
   "outputs": [],
   "source": [
    "@timing\n",
    "def run_model(model, X_test, y_test):\n",
    "    y_pred = model.predict(X_test)\n",
    "    return y_pred   "
   ]
  },
  {
   "cell_type": "code",
   "execution_count": 15,
   "id": "748b92d2-11ee-4ed8-886f-4805add0fe2f",
   "metadata": {},
   "outputs": [],
   "source": [
    "from sklearn.metrics import precision_score\n",
    "from sklearn.metrics import recall_score\n",
    "from sklearn.metrics import roc_auc_score\n",
    "from sklearn.metrics import f1_score\n",
    "def eval_model(y_test,y_pred):\n",
    "    pres = precision_score(y_test, y_pred)\n",
    "    rec = recall_score(y_test, y_pred)\n",
    "    roc = roc_auc_score(y_test, y_pred)\n",
    "    f1 = f1_score(y_test, y_pred)\n",
    "    return pres,rec, roc, f1"
   ]
  },
  {
   "cell_type": "code",
   "execution_count": 15,
   "id": "06b4bb01-08f9-4d61-a90d-7c436de993a6",
   "metadata": {},
   "outputs": [
    {
     "name": "stdout",
     "output_type": "stream",
     "text": [
      "train_model function took 69880.585 ms\n"
     ]
    }
   ],
   "source": [
    "from sklearn.ensemble import HistGradientBoostingClassifier\n",
    "model = HistGradientBoostingClassifier(learning_rate = 0.08, max_depth = 50, max_iter = 300, max_leaf_nodes =  127, min_samples_leaf = 50)\n",
    "model = train_model(model,X_train,y_train)"
   ]
  },
  {
   "cell_type": "code",
   "execution_count": 16,
   "id": "bdd12df8-fa19-4e25-8be7-ff66dd11a555",
   "metadata": {},
   "outputs": [
    {
     "name": "stdout",
     "output_type": "stream",
     "text": [
      "run_model function took 551.467 ms\n"
     ]
    }
   ],
   "source": [
    "y_pred = run_model(model, X_test, y_test)"
   ]
  },
  {
   "cell_type": "code",
   "execution_count": 17,
   "id": "e064d65e-d961-4fc4-b30f-cb9e0d916adf",
   "metadata": {},
   "outputs": [
    {
     "data": {
      "text/plain": [
       "(0.9775679186059097,\n",
       " 0.9661950736808322,\n",
       " 0.9819530340433562,\n",
       " 0.9718482252141982)"
      ]
     },
     "execution_count": 17,
     "metadata": {},
     "output_type": "execute_result"
    }
   ],
   "source": [
    "eval_model(y_test,y_pred)"
   ]
  },
  {
   "cell_type": "code",
   "execution_count": 18,
   "id": "592264d9-879b-49c6-b682-518582c9bb86",
   "metadata": {},
   "outputs": [
    {
     "name": "stdout",
     "output_type": "stream",
     "text": [
      "train_model function took 227561.100 ms\n"
     ]
    }
   ],
   "source": [
    "from sklearn.ensemble import BaggingClassifier\n",
    "model = BaggingClassifier(n_estimators=150, random_state=0,n_jobs = -1)\n",
    "model = train_model(model,X_train,y_train)"
   ]
  },
  {
   "cell_type": "code",
   "execution_count": 19,
   "id": "e457cea5-8543-4c10-8ffb-e73618b3585f",
   "metadata": {},
   "outputs": [
    {
     "name": "stdout",
     "output_type": "stream",
     "text": [
      "run_model function took 3671.271 ms\n"
     ]
    }
   ],
   "source": [
    "y_pred = run_model(model, X_test, y_test)"
   ]
  },
  {
   "cell_type": "code",
   "execution_count": 20,
   "id": "9a2995e7-3029-464e-a0e6-dbe7dc1e04ad",
   "metadata": {},
   "outputs": [
    {
     "data": {
      "text/plain": [
       "(0.8340927846148326,\n",
       " 0.6217271535931106,\n",
       " 0.8044797638489014,\n",
       " 0.7124207042383008)"
      ]
     },
     "execution_count": 20,
     "metadata": {},
     "output_type": "execute_result"
    }
   ],
   "source": [
    "eval_model(y_test,y_pred)"
   ]
  },
  {
   "cell_type": "code",
   "execution_count": 16,
   "id": "f005316f-0f12-4583-80ca-90950a96fa86",
   "metadata": {},
   "outputs": [
    {
     "name": "stdout",
     "output_type": "stream",
     "text": [
      "train_model function took 228551.462 ms\n"
     ]
    }
   ],
   "source": [
    "from sklearn.ensemble import RandomForestClassifier\n",
    "model = RandomForestClassifier(n_estimators = 400, random_state=0,n_jobs = -1)\n",
    "model = train_model(model,X_train,y_train)"
   ]
  },
  {
   "cell_type": "code",
   "execution_count": 17,
   "id": "732ee50e-4935-49fc-929c-33f454ed76c5",
   "metadata": {},
   "outputs": [
    {
     "name": "stdout",
     "output_type": "stream",
     "text": [
      "run_model function took 1624.897 ms\n"
     ]
    }
   ],
   "source": [
    "y_pred = run_model(model, X_test, y_test)"
   ]
  },
  {
   "cell_type": "code",
   "execution_count": 18,
   "id": "57e5b1c4-4c32-47ef-8d76-bac484a32605",
   "metadata": {},
   "outputs": [
    {
     "data": {
      "text/plain": [
       "(0.8896509545236119,\n",
       " 0.5446497820331095,\n",
       " 0.7688375399123649,\n",
       " 0.6756577419461863)"
      ]
     },
     "execution_count": 18,
     "metadata": {},
     "output_type": "execute_result"
    }
   ],
   "source": [
    "eval_model(y_test,y_pred)"
   ]
  },
  {
   "cell_type": "code",
   "execution_count": 24,
   "id": "b48495e2-395b-47f0-92b2-59e3bee5a9be",
   "metadata": {},
   "outputs": [
    {
     "name": "stdout",
     "output_type": "stream",
     "text": [
      "train_model function took 323574.416 ms\n"
     ]
    }
   ],
   "source": [
    "from xgboost import XGBClassifier\n",
    "model = XGBClassifier(use_label_encoder=False, eval_metric='mlogloss')\n",
    "model = train_model(model,X_train,y_train)"
   ]
  },
  {
   "cell_type": "code",
   "execution_count": 25,
   "id": "3fdbd23c-3d79-484f-9a54-95734ef4bb12",
   "metadata": {},
   "outputs": [
    {
     "name": "stdout",
     "output_type": "stream",
     "text": [
      "run_model function took 91.341 ms\n"
     ]
    }
   ],
   "source": [
    "y_pred = run_model(model, X_test, y_test)"
   ]
  },
  {
   "cell_type": "code",
   "execution_count": 26,
   "id": "b326a2fb-6fb4-41a2-b943-70dc21048983",
   "metadata": {},
   "outputs": [
    {
     "data": {
      "text/plain": [
       "(0.8084296106118956, 0.50528201973737, 0.7464601425316075, 0.621879165912345)"
      ]
     },
     "execution_count": 26,
     "metadata": {},
     "output_type": "execute_result"
    }
   ],
   "source": [
    "eval_model(y_test,y_pred)"
   ]
  },
  {
   "cell_type": "code",
   "execution_count": 32,
   "id": "07ae9457-87c3-4548-a020-2391ddcaf502",
   "metadata": {},
   "outputs": [
    {
     "name": "stdout",
     "output_type": "stream",
     "text": [
      "train_model function took 1705627.769 ms\n"
     ]
    }
   ],
   "source": [
    "from sklearn.neural_network import MLPClassifier\n",
    "model = MLPClassifier(random_state=1, max_iter=200)\n",
    "model = train_model(model,X_train.head(1000000),y_train.head(1000000))"
   ]
  },
  {
   "cell_type": "code",
   "execution_count": 33,
   "id": "16ffddb6-a6e0-4aa9-bf3f-0fa787a4ff54",
   "metadata": {},
   "outputs": [
    {
     "name": "stdout",
     "output_type": "stream",
     "text": [
      "run_model function took 1115.883 ms\n"
     ]
    }
   ],
   "source": [
    "y_pred = run_model(model, X_test, y_test)"
   ]
  },
  {
   "cell_type": "code",
   "execution_count": 34,
   "id": "0936881f-b715-46c4-b6ee-8d791b252140",
   "metadata": {},
   "outputs": [
    {
     "data": {
      "text/plain": [
       "(0.6844532606000496,\n",
       " 0.36912626033002593,\n",
       " 0.6757784844500646,\n",
       " 0.47960247411216905)"
      ]
     },
     "execution_count": 34,
     "metadata": {},
     "output_type": "execute_result"
    }
   ],
   "source": [
    "eval_model(y_test,y_pred)"
   ]
  },
  {
   "cell_type": "code",
   "execution_count": 29,
   "id": "6b766246-9ad1-44af-84f0-ea364393ecee",
   "metadata": {},
   "outputs": [
    {
     "name": "stdout",
     "output_type": "stream",
     "text": [
      "train_model function took 47161.134 ms\n"
     ]
    },
    {
     "name": "stderr",
     "output_type": "stream",
     "text": [
      "/opt/lhm/tljh/user/lib/python3.7/site-packages/sklearn/svm/_base.py:289: ConvergenceWarning: Solver terminated early (max_iter=200).  Consider pre-processing your data with StandardScaler or MinMaxScaler.\n",
      "  ConvergenceWarning,\n"
     ]
    }
   ],
   "source": [
    "from sklearn.svm import SVC\n",
    "model = SVC(random_state=1, max_iter=200)\n",
    "model = train_model(model,X_train.head(1000000),y_train.head(1000000))"
   ]
  },
  {
   "cell_type": "code",
   "execution_count": 30,
   "id": "9bc5e530-55a1-47d8-af74-7922db425202",
   "metadata": {},
   "outputs": [
    {
     "name": "stdout",
     "output_type": "stream",
     "text": [
      "run_model function took 15868.659 ms\n"
     ]
    }
   ],
   "source": [
    "y_pred = run_model(model, X_test, y_test)"
   ]
  },
  {
   "cell_type": "code",
   "execution_count": 31,
   "id": "079e1f77-4f72-41a0-9a0d-2ac50fb0e753",
   "metadata": {},
   "outputs": [
    {
     "data": {
      "text/plain": [
       "(0.017807370703004026,\n",
       " 0.018453638576127945,\n",
       " 0.4566846148845584,\n",
       " 0.018124745531199516)"
      ]
     },
     "execution_count": 31,
     "metadata": {},
     "output_type": "execute_result"
    }
   ],
   "source": [
    "eval_model(y_test,y_pred)"
   ]
  },
  {
   "cell_type": "code",
   "execution_count": 25,
   "id": "4038e980-b15c-43c6-9aca-498d2cc494e2",
   "metadata": {},
   "outputs": [
    {
     "name": "stdout",
     "output_type": "stream",
     "text": [
      "train_model function took 280128.901 ms\n"
     ]
    }
   ],
   "source": [
    "from sklearn.ensemble import VotingClassifier\n",
    "from sklearn.ensemble import BaggingClassifier\n",
    "from sklearn.ensemble import HistGradientBoostingClassifier\n",
    "estimators=[(\"bag\", BaggingClassifier(n_estimators=150, random_state=0,n_jobs = -1)), (\"gard\", HistGradientBoostingClassifier(learning_rate = 0.08, max_depth = 50, max_iter = 300, max_leaf_nodes =  127, min_samples_leaf = 50))]\n",
    "model = VotingClassifier(estimators, voting=\"hard\")\n",
    "model = train_model(model,X_train,y_train)"
   ]
  },
  {
   "cell_type": "code",
   "execution_count": 26,
   "id": "850f8033-9171-4fe2-9308-9dd166681bec",
   "metadata": {},
   "outputs": [
    {
     "name": "stdout",
     "output_type": "stream",
     "text": [
      "run_model function took 6260.053 ms\n"
     ]
    }
   ],
   "source": [
    "y_pred = run_model(model, X_test, y_test)"
   ]
  },
  {
   "cell_type": "code",
   "execution_count": 27,
   "id": "d885fb4b-0417-4f94-b151-7e9abaa95297",
   "metadata": {},
   "outputs": [
    {
     "data": {
      "text/plain": [
       "(0.9898758274564098,\n",
       " 0.6118852130191758,\n",
       " 0.8056195502315275,\n",
       " 0.7562805764908106)"
      ]
     },
     "execution_count": 27,
     "metadata": {},
     "output_type": "execute_result"
    }
   ],
   "source": [
    "eval_model(y_test,y_pred)"
   ]
  },
  {
   "cell_type": "code",
   "execution_count": null,
   "id": "4664f599-5c2b-4f43-b92c-a36a400f10ff",
   "metadata": {},
   "outputs": [],
   "source": []
  }
 ],
 "metadata": {
  "kernelspec": {
   "display_name": "Python 3 (ipykernel)",
   "language": "python",
   "name": "python3"
  },
  "language_info": {
   "codemirror_mode": {
    "name": "ipython",
    "version": 3
   },
   "file_extension": ".py",
   "mimetype": "text/x-python",
   "name": "python",
   "nbconvert_exporter": "python",
   "pygments_lexer": "ipython3",
   "version": "3.9.7"
  }
 },
 "nbformat": 4,
 "nbformat_minor": 5
}
