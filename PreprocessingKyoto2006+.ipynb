{
 "cells": [
  {
   "cell_type": "code",
   "execution_count": 1,
   "id": "71f846f3",
   "metadata": {},
   "outputs": [],
   "source": [
    "import pandas as pd\n",
    "pd.set_option('display.max_rows', 500)\n",
    "pd.set_option('display.max_columns', 500)\n",
    "pd.set_option('display.width', 1000)\n",
    "import numpy as np"
   ]
  },
  {
   "cell_type": "code",
   "execution_count": 2,
   "id": "26ae2ebc",
   "metadata": {},
   "outputs": [],
   "source": [
    "from sklearn import preprocessing"
   ]
  },
  {
   "cell_type": "code",
   "execution_count": 3,
   "id": "ac7d3025",
   "metadata": {},
   "outputs": [],
   "source": [
    "columns = [\"Duration\",\"Service\",\"Source bytes\",\"Destination bytes\",\"Count\",\"Same srv rate\",\"Serror rate\",\"Srv serror rate\",\"Dst host count\",\"Dst host srv count\",\"Dst host same src port rate\",\"Dst host serror rate\",\"Dst host srv serror rate\",\"Flag\",\"IDS detection\",\"Malware detection\",\"Ashula detection\",\"Label\",\"Source IP Address\",\"Source Port Number\",\"Destination IP Address\",\"Destination Port Number\",\"Start Time\",\"Protocol\"]"
   ]
  },
  {
   "cell_type": "code",
   "execution_count": 4,
   "id": "dff2e9d9",
   "metadata": {},
   "outputs": [
    {
     "name": "stderr",
     "output_type": "stream",
     "text": [
      "/opt/lhm/tljh/user/lib/python3.7/site-packages/IPython/core/interactiveshell.py:3444: FutureWarning: The error_bad_lines argument has been deprecated and will be removed in a future version.\n",
      "\n",
      "\n",
      "  exec(code_obj, self.user_global_ns, self.user_ns)\n"
     ]
    }
   ],
   "source": [
    "import os\n",
    "small_df = list()\n",
    "for file in os.listdir(\"06.2015\"):\n",
    "    df= pd.read_csv(\"06.2015/\" + file, error_bad_lines=False, sep = \"\\t\")\n",
    "    df.columns = columns\n",
    "    small_df.append(df)"
   ]
  },
  {
   "cell_type": "code",
   "execution_count": 5,
   "id": "5223e65b",
   "metadata": {},
   "outputs": [
    {
     "ename": "FileNotFoundError",
     "evalue": "[Errno 2] No such file or directory: '05.2015'",
     "output_type": "error",
     "traceback": [
      "\u001b[0;31m---------------------------------------------------------------------------\u001b[0m",
      "\u001b[0;31mFileNotFoundError\u001b[0m                         Traceback (most recent call last)",
      "\u001b[0;32m/tmp/ipykernel_16558/2955269954.py\u001b[0m in \u001b[0;36m<module>\u001b[0;34m\u001b[0m\n\u001b[1;32m      1\u001b[0m \u001b[0;32mimport\u001b[0m \u001b[0mos\u001b[0m\u001b[0;34m\u001b[0m\u001b[0;34m\u001b[0m\u001b[0m\n\u001b[1;32m      2\u001b[0m \u001b[0msmall_df\u001b[0m \u001b[0;34m=\u001b[0m \u001b[0mlist\u001b[0m\u001b[0;34m(\u001b[0m\u001b[0;34m)\u001b[0m\u001b[0;34m\u001b[0m\u001b[0;34m\u001b[0m\u001b[0m\n\u001b[0;32m----> 3\u001b[0;31m \u001b[0;32mfor\u001b[0m \u001b[0mfile\u001b[0m \u001b[0;32min\u001b[0m \u001b[0mos\u001b[0m\u001b[0;34m.\u001b[0m\u001b[0mlistdir\u001b[0m\u001b[0;34m(\u001b[0m\u001b[0;34m\"05.2015\"\u001b[0m\u001b[0;34m)\u001b[0m\u001b[0;34m:\u001b[0m\u001b[0;34m\u001b[0m\u001b[0;34m\u001b[0m\u001b[0m\n\u001b[0m\u001b[1;32m      4\u001b[0m     \u001b[0mdf\u001b[0m\u001b[0;34m=\u001b[0m \u001b[0mpd\u001b[0m\u001b[0;34m.\u001b[0m\u001b[0mread_csv\u001b[0m\u001b[0;34m(\u001b[0m\u001b[0;34m\"05.2015/\"\u001b[0m \u001b[0;34m+\u001b[0m \u001b[0mfile\u001b[0m\u001b[0;34m,\u001b[0m \u001b[0merror_bad_lines\u001b[0m\u001b[0;34m=\u001b[0m\u001b[0;32mFalse\u001b[0m\u001b[0;34m,\u001b[0m \u001b[0msep\u001b[0m \u001b[0;34m=\u001b[0m \u001b[0;34m\"\\t\"\u001b[0m\u001b[0;34m)\u001b[0m\u001b[0;34m\u001b[0m\u001b[0;34m\u001b[0m\u001b[0m\n\u001b[1;32m      5\u001b[0m     \u001b[0mdf\u001b[0m\u001b[0;34m.\u001b[0m\u001b[0mcolumns\u001b[0m \u001b[0;34m=\u001b[0m \u001b[0mcolumns\u001b[0m\u001b[0;34m\u001b[0m\u001b[0;34m\u001b[0m\u001b[0m\n",
      "\u001b[0;31mFileNotFoundError\u001b[0m: [Errno 2] No such file or directory: '05.2015'"
     ]
    }
   ],
   "source": [
    "import os\n",
    "small_df = list()\n",
    "for file in os.listdir(\"05.2015\"):\n",
    "    df= pd.read_csv(\"05.2015/\" + file, error_bad_lines=False, sep = \"\\t\")\n",
    "    df.columns = columns\n",
    "    small_df.append(df)"
   ]
  },
  {
   "cell_type": "code",
   "execution_count": null,
   "id": "5707e9fe",
   "metadata": {},
   "outputs": [],
   "source": [
    "import os\n",
    "small_df = list()\n",
    "for file in os.listdir(\"04.2015\"):\n",
    "    df= pd.read_csv(\"04.2015/\" + file, error_bad_lines=False, sep = \"\\t\")\n",
    "    df.columns = columns\n",
    "    small_df.append(df)"
   ]
  },
  {
   "cell_type": "code",
   "execution_count": null,
   "id": "09b3dc6f",
   "metadata": {},
   "outputs": [],
   "source": [
    "small_df[0]"
   ]
  },
  {
   "cell_type": "code",
   "execution_count": null,
   "id": "8a21603b",
   "metadata": {},
   "outputs": [],
   "source": []
  },
  {
   "cell_type": "code",
   "execution_count": null,
   "id": "aa50bdd2",
   "metadata": {},
   "outputs": [],
   "source": [
    "large_df = pd.concat(small_df, ignore_index=True)"
   ]
  },
  {
   "cell_type": "code",
   "execution_count": null,
   "id": "be333110",
   "metadata": {},
   "outputs": [],
   "source": [
    "large_df"
   ]
  },
  {
   "cell_type": "code",
   "execution_count": null,
   "id": "447757d3",
   "metadata": {},
   "outputs": [],
   "source": [
    "sub_collumns = [\"Duration\",\"Service\",\"Source bytes\",\"Protocol\",\"Destination bytes\",\"Count\",\"Same srv rate\",\"Serror rate\",\"Srv serror rate\",\"Dst host count\",\"Dst host srv count\",\"Dst host same src port rate\",\"Dst host serror rate\",\"Dst host srv serror rate\",\"Flag\",\"Label\"]\n",
    "subset1 = large_df[sub_collumns]\n",
    "subset1.head()"
   ]
  },
  {
   "cell_type": "markdown",
   "id": "5204db75",
   "metadata": {},
   "source": [
    "Label from 3 to 2 (Mal - or Normal +)"
   ]
  },
  {
   "cell_type": "code",
   "execution_count": null,
   "id": "b7142d02",
   "metadata": {},
   "outputs": [],
   "source": [
    "label = subset1[\"Label\"]"
   ]
  },
  {
   "cell_type": "code",
   "execution_count": null,
   "id": "74047629",
   "metadata": {},
   "outputs": [],
   "source": [
    "label = label.apply(lambda x: 0 if (x < 0) else x)"
   ]
  },
  {
   "cell_type": "code",
   "execution_count": null,
   "id": "8465dd41",
   "metadata": {},
   "outputs": [],
   "source": [
    "label.describe()"
   ]
  },
  {
   "cell_type": "markdown",
   "id": "ee0b6e93",
   "metadata": {},
   "source": [
    "One-Hot Encode Categroical Variables"
   ]
  },
  {
   "cell_type": "code",
   "execution_count": null,
   "id": "2eee4c5b",
   "metadata": {},
   "outputs": [],
   "source": [
    "service = subset1[\"Service\"]\n",
    "service.describe()"
   ]
  },
  {
   "cell_type": "code",
   "execution_count": null,
   "id": "a00f1622",
   "metadata": {},
   "outputs": [],
   "source": [
    "from numpy import array\n",
    "from numpy import\n",
    "from sklearn.preprocessing import LabelEncoder\n",
    "from sklearn.preprocessing import OneHotEncoder\n",
    "values = array(service)\n",
    "label_encoder = LabelEncoder()\n",
    "integer_encoded = label_encoder.fit_transform(values)\n",
    "print(integer_encoded)\n",
    "# binary encode\n",
    "onehot_encoder = OneHotEncoder(sparse=False)\n",
    "integer_encoded = integer_encoded.reshape(len(integer_encoded), 1)\n",
    "service_onehot_encoded = onehot_encoder.fit_transform(integer_encoded)"
   ]
  },
  {
   "cell_type": "code",
   "execution_count": null,
   "id": "21345fd0",
   "metadata": {},
   "outputs": [],
   "source": [
    "service2 = pd.DataFrame(data=service_onehot_encoded)\n",
    "service2columns = [\"service_1\",\"service_2\",\"service_3\",\"service_4\",\"service_5\",\"service_6\",\"service_7\",\"service_8\",\"service_9\",\"service_10\"]\n",
    "service2.columns = service2columns\n",
    "service2.head(9)\n",
    "service2i = pd.DataFrame(data=integer_encoded)"
   ]
  },
  {
   "cell_type": "code",
   "execution_count": null,
   "id": "827115f6",
   "metadata": {},
   "outputs": [],
   "source": [
    "flag = subset1[\"Flag\"]"
   ]
  },
  {
   "cell_type": "code",
   "execution_count": null,
   "id": "0c51bdb0",
   "metadata": {},
   "outputs": [],
   "source": [
    "flag.head()"
   ]
  },
  {
   "cell_type": "code",
   "execution_count": null,
   "id": "6a8a6eab",
   "metadata": {},
   "outputs": [],
   "source": [
    "flag.describe()"
   ]
  },
  {
   "cell_type": "code",
   "execution_count": null,
   "id": "44e3b403",
   "metadata": {},
   "outputs": [],
   "source": [
    "values = array(flag)\n",
    "label_encoder = LabelEncoder()\n",
    "integer_encoded = label_encoder.fit_transform(values)\n",
    "print(integer_encoded)\n",
    "# binary encode\n",
    "onehot_encoder = OneHotEncoder(sparse=False)\n",
    "integer_encoded = integer_encoded.reshape(len(integer_encoded), 1)\n",
    "flag_onehot_encoded = onehot_encoder.fit_transform(integer_encoded)\n",
    "print(flag_onehot_encoded)"
   ]
  },
  {
   "cell_type": "code",
   "execution_count": null,
   "id": "15027fa6",
   "metadata": {},
   "outputs": [],
   "source": [
    "flag2 = pd.DataFrame(data=flag_onehot_encoded)"
   ]
  },
  {
   "cell_type": "code",
   "execution_count": null,
   "id": "dca9c44b",
   "metadata": {},
   "outputs": [],
   "source": [
    "flag2columns = [\"flag_1\",\"flag_2\",\"flag_3\",\"flag_4\",\"flag_5\",\"flag_6\",\"flag_7\",\"flag_8\",\"flag_9\",\"flag_10\",\"flag_11\",\"flag_12\",\"flag_13\"]\n",
    "flag2.columns = flag2columns\n",
    "flag2.head(9)\n",
    "flag2i = pd.DataFrame(data=integer_encoded)"
   ]
  },
  {
   "cell_type": "code",
   "execution_count": null,
   "id": "e347929f",
   "metadata": {},
   "outputs": [],
   "source": [
    "prot = subset1[\"Protocol\"]\n",
    "\n",
    "prot.head()\n",
    "\n",
    "prot.describe()"
   ]
  },
  {
   "cell_type": "code",
   "execution_count": null,
   "id": "4ad68a55",
   "metadata": {},
   "outputs": [],
   "source": [
    "\n",
    "\n",
    "values = array(prot)\n",
    "label_encoder = LabelEncoder()\n",
    "integer_encoded = label_encoder.fit_transform(values)\n",
    "print(integer_encoded)\n",
    "# binary encode\n",
    "onehot_encoder = OneHotEncoder(sparse=False)\n",
    "integer_encoded = integer_encoded.reshape(len(integer_encoded), 1)\n",
    "prot_onehot_encoded = onehot_encoder.fit_transform(integer_encoded)\n",
    "print(prot_onehot_encoded)\n",
    "\n",
    "prot2 = pd.DataFrame(data=prot_onehot_encoded)\n",
    "\n",
    "prot2columns = [\"prot_1\",\"prot_2\",\"prot_3\"]\n",
    "prot2.columns = prot2columns\n",
    "prot2.head(9)\n",
    "prot2i = pd.DataFrame(data=integer_encoded)"
   ]
  },
  {
   "cell_type": "markdown",
   "id": "a8dc6c9a",
   "metadata": {},
   "source": [
    "MinMaxScale Continious Features"
   ]
  },
  {
   "cell_type": "code",
   "execution_count": null,
   "id": "8f00af34",
   "metadata": {},
   "outputs": [],
   "source": []
  },
  {
   "cell_type": "code",
   "execution_count": null,
   "id": "eb551ce2",
   "metadata": {},
   "outputs": [],
   "source": [
    "scalable_collums = [\"Duration\",\"Source bytes\",\"Destination bytes\",\"Count\",\"Same srv rate\",\"Serror rate\",\"Srv serror rate\",\"Dst host count\",\"Dst host srv count\",\"Dst host same src port rate\",\"Dst host serror rate\",\"Dst host srv serror rate\"]\n",
    "to_scale = subset1[scalable_collums]\n",
    "scalearray = array(to_scale)"
   ]
  },
  {
   "cell_type": "code",
   "execution_count": null,
   "id": "5290172f",
   "metadata": {},
   "outputs": [],
   "source": [
    "from sklearn.preprocessing import MinMaxScaler\n",
    "scaler = MinMaxScaler()\n",
    "res = scaler.fit(scalearray)"
   ]
  },
  {
   "cell_type": "code",
   "execution_count": null,
   "id": "b40b2a15",
   "metadata": {},
   "outputs": [],
   "source": [
    "transformed = scaler.transform(scalearray)"
   ]
  },
  {
   "cell_type": "code",
   "execution_count": null,
   "id": "7d6a080b",
   "metadata": {},
   "outputs": [],
   "source": [
    "transformed"
   ]
  },
  {
   "cell_type": "code",
   "execution_count": null,
   "id": "47c83ed3",
   "metadata": {},
   "outputs": [],
   "source": [
    "transformed_features = pd.DataFrame(data=transformed)"
   ]
  },
  {
   "cell_type": "code",
   "execution_count": null,
   "id": "7cb864f4",
   "metadata": {},
   "outputs": [],
   "source": [
    "transformed_features.shape"
   ]
  },
  {
   "cell_type": "code",
   "execution_count": null,
   "id": "17eedaeb",
   "metadata": {},
   "outputs": [],
   "source": [
    "transformed_features.columns = scalable_collums"
   ]
  },
  {
   "cell_type": "code",
   "execution_count": null,
   "id": "832e80a3",
   "metadata": {},
   "outputs": [],
   "source": [
    "len(scalable_collums)"
   ]
  },
  {
   "cell_type": "code",
   "execution_count": null,
   "id": "5451bd5a",
   "metadata": {},
   "outputs": [],
   "source": [
    "transformed_features.describe()"
   ]
  },
  {
   "cell_type": "code",
   "execution_count": null,
   "id": "00b01120",
   "metadata": {
    "scrolled": true
   },
   "outputs": [],
   "source": [
    "subset1.describe()"
   ]
  },
  {
   "cell_type": "code",
   "execution_count": null,
   "id": "d1773532",
   "metadata": {},
   "outputs": [],
   "source": [
    "prepared_data = [transformed_features, flag2i ,prot2i, service2i,label ]"
   ]
  },
  {
   "cell_type": "code",
   "execution_count": null,
   "id": "0c9a1f72",
   "metadata": {},
   "outputs": [],
   "source": [
    "all_data = pd.concat(prepared_data, axis=1)"
   ]
  },
  {
   "cell_type": "code",
   "execution_count": null,
   "id": "4647ecc1",
   "metadata": {},
   "outputs": [],
   "source": [
    "all_data.head()"
   ]
  },
  {
   "cell_type": "code",
   "execution_count": null,
   "id": "6f533521",
   "metadata": {},
   "outputs": [],
   "source": [
    "all_data.shape"
   ]
  },
  {
   "cell_type": "code",
   "execution_count": null,
   "id": "23ac1519",
   "metadata": {},
   "outputs": [],
   "source": [
    "all_data.to_csv(\"preparedDataINT06_15.csv\")"
   ]
  },
  {
   "cell_type": "code",
   "execution_count": null,
   "id": "5ee6c654",
   "metadata": {},
   "outputs": [],
   "source": [
    "normal_data = all_data[all_data[\"Label\"] == 1]\n",
    "anormal_data = all_data[all_data[\"Label\"]== 0]"
   ]
  },
  {
   "cell_type": "code",
   "execution_count": null,
   "id": "4d524d73",
   "metadata": {},
   "outputs": [],
   "source": [
    "normal_data.head()"
   ]
  },
  {
   "cell_type": "code",
   "execution_count": null,
   "id": "b61ca681",
   "metadata": {},
   "outputs": [],
   "source": [
    "len(normal_data)"
   ]
  },
  {
   "cell_type": "code",
   "execution_count": null,
   "id": "a9b5908c",
   "metadata": {},
   "outputs": [],
   "source": [
    "len(anormal_data)"
   ]
  },
  {
   "cell_type": "code",
   "execution_count": null,
   "id": "ac6d79c3",
   "metadata": {},
   "outputs": [],
   "source": [
    "normal_data = normal_data.drop(columns=['Label'])\n",
    "anormal_data = anormal_data.drop(columns=['Label'])"
   ]
  },
  {
   "cell_type": "code",
   "execution_count": null,
   "id": "254c0b3d",
   "metadata": {},
   "outputs": [],
   "source": [
    "small_normal = normal_data.head(250000)\n",
    "small_normalt = normal_data.tail(250000)"
   ]
  },
  {
   "cell_type": "code",
   "execution_count": null,
   "id": "51d19ce2",
   "metadata": {},
   "outputs": [],
   "source": [
    "small_anormal = anormal_data.head(50000)\n",
    "small_anormalt = anormal_data.head(50000)"
   ]
  },
  {
   "cell_type": "code",
   "execution_count": null,
   "id": "6dd68432",
   "metadata": {},
   "outputs": [],
   "source": [
    "small_normal.shape"
   ]
  },
  {
   "cell_type": "code",
   "execution_count": null,
   "id": "fffa8d4e",
   "metadata": {},
   "outputs": [],
   "source": [
    "small_normalt.shape"
   ]
  },
  {
   "cell_type": "code",
   "execution_count": null,
   "id": "38b8295a",
   "metadata": {},
   "outputs": [],
   "source": [
    "small_anormal.shape"
   ]
  },
  {
   "cell_type": "code",
   "execution_count": null,
   "id": "4f04a58d",
   "metadata": {},
   "outputs": [],
   "source": [
    "small_anormalt.shape"
   ]
  },
  {
   "cell_type": "code",
   "execution_count": null,
   "id": "7504675a",
   "metadata": {},
   "outputs": [],
   "source": [
    "with open('X_train_normal.npy', 'wb') as f:\n",
    "\n",
    "    np.save(f, small_normal.to_numpy())\n",
    "\n",
    "    "
   ]
  },
  {
   "cell_type": "code",
   "execution_count": null,
   "id": "bcb34450",
   "metadata": {},
   "outputs": [],
   "source": [
    "with open('X_test_normal.npy', 'wb') as f:\n",
    "\n",
    "    np.save(f, small_normalt.to_numpy())"
   ]
  },
  {
   "cell_type": "code",
   "execution_count": null,
   "id": "53c43b08",
   "metadata": {},
   "outputs": [],
   "source": [
    "with open('X_train_anomaly.npy', 'wb') as f:\n",
    "\n",
    "    np.save(f, small_anormal.to_numpy())\n",
    "\n",
    "    "
   ]
  },
  {
   "cell_type": "code",
   "execution_count": null,
   "id": "b1035060",
   "metadata": {},
   "outputs": [],
   "source": [
    "with open('X_test_anomaly.npy', 'wb') as f:\n",
    "\n",
    "    np.save(f, small_anormalt.to_numpy())"
   ]
  },
  {
   "cell_type": "code",
   "execution_count": null,
   "id": "97f043e7",
   "metadata": {},
   "outputs": [],
   "source": []
  }
 ],
 "metadata": {
  "kernelspec": {
   "display_name": "Python 3 (ipykernel)",
   "language": "python",
   "name": "python3"
  },
  "language_info": {
   "codemirror_mode": {
    "name": "ipython",
    "version": 3
   },
   "file_extension": ".py",
   "mimetype": "text/x-python",
   "name": "python",
   "nbconvert_exporter": "python",
   "pygments_lexer": "ipython3",
   "version": "3.9.7"
  }
 },
 "nbformat": 4,
 "nbformat_minor": 5
}
