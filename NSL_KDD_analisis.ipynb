{
 "cells": [
  {
   "cell_type": "code",
   "execution_count": 2,
   "id": "05400100",
   "metadata": {},
   "outputs": [],
   "source": [
    "import pandas as pd \n",
    "import numpy as np\n",
    "import sklearn"
   ]
  },
  {
   "cell_type": "code",
   "execution_count": 3,
   "id": "ee5b2640-57f5-4553-90d5-e444a9c5e07b",
   "metadata": {},
   "outputs": [
    {
     "name": "stdout",
     "output_type": "stream",
     "text": [
      "1.0.1\n"
     ]
    }
   ],
   "source": [
    "import sklearn\n",
    "print(sklearn.__version__)"
   ]
  },
  {
   "cell_type": "code",
   "execution_count": 4,
   "id": "50348ea7-cfe2-400c-806b-a6912f93f471",
   "metadata": {},
   "outputs": [],
   "source": [
    "import time\n",
    "def timing(f):\n",
    "    def wrap(*args, **kwargs):\n",
    "        time1 = time.time()\n",
    "        ret = f(*args, **kwargs)\n",
    "        time2 = time.time()\n",
    "        print('{:s} function took {:.3f} ms'.format(f.__name__, (time2-time1)*1000.0))\n",
    "\n",
    "        return ret\n",
    "    return wrap"
   ]
  },
  {
   "cell_type": "markdown",
   "id": "1ee316fd-598c-4e4c-927d-09175e941af5",
   "metadata": {},
   "source": [
    "# Load data and x/y"
   ]
  },
  {
   "cell_type": "code",
   "execution_count": 5,
   "id": "5535c6bd-88bb-4975-b3ab-acd720dc5d91",
   "metadata": {},
   "outputs": [
    {
     "name": "stderr",
     "output_type": "stream",
     "text": [
      "/opt/lhm/tljh/user/lib/python3.9/site-packages/IPython/core/interactiveshell.py:3457: DtypeWarning: Columns (55) have mixed types.Specify dtype option on import or set low_memory=False.\n",
      "  exec(code_obj, self.user_global_ns, self.user_ns)\n"
     ]
    }
   ],
   "source": [
    "train = pd.read_csv(\"data/preparedData_NSL_KDD_train_cat.csv\",nrows=1000000)\n",
    "test = pd.read_csv(\"data/preparedData_NSL_KDD_test_cat.csv\",nrows=1000000)"
   ]
  },
  {
   "cell_type": "code",
   "execution_count": 6,
   "id": "bab0552b-babd-45ef-8412-95d447e5c176",
   "metadata": {},
   "outputs": [
    {
     "data": {
      "text/html": [
       "<div>\n",
       "<style scoped>\n",
       "    .dataframe tbody tr th:only-of-type {\n",
       "        vertical-align: middle;\n",
       "    }\n",
       "\n",
       "    .dataframe tbody tr th {\n",
       "        vertical-align: top;\n",
       "    }\n",
       "\n",
       "    .dataframe thead th {\n",
       "        text-align: right;\n",
       "    }\n",
       "</style>\n",
       "<table border=\"1\" class=\"dataframe\">\n",
       "  <thead>\n",
       "    <tr style=\"text-align: right;\">\n",
       "      <th></th>\n",
       "      <th>duration</th>\n",
       "      <th>src_bytes</th>\n",
       "      <th>dst_bytes</th>\n",
       "      <th>wrong_fragment</th>\n",
       "      <th>urgent</th>\n",
       "      <th>hot</th>\n",
       "      <th>num_failed_logins</th>\n",
       "      <th>num_compromised</th>\n",
       "      <th>root_shell</th>\n",
       "      <th>su_attempted</th>\n",
       "      <th>...</th>\n",
       "      <th>1</th>\n",
       "      <th>2</th>\n",
       "      <th>prot_1</th>\n",
       "      <th>prot_2</th>\n",
       "      <th>prot_3</th>\n",
       "      <th>land</th>\n",
       "      <th>logged_in</th>\n",
       "      <th>is_host_login</th>\n",
       "      <th>is_guest_login</th>\n",
       "      <th>type</th>\n",
       "    </tr>\n",
       "  </thead>\n",
       "  <tbody>\n",
       "    <tr>\n",
       "      <th>0</th>\n",
       "      <td>0.000000</td>\n",
       "      <td>0.000000e+00</td>\n",
       "      <td>0.000000</td>\n",
       "      <td>0.0</td>\n",
       "      <td>0.0</td>\n",
       "      <td>0.0</td>\n",
       "      <td>0.0</td>\n",
       "      <td>0.0</td>\n",
       "      <td>0.0</td>\n",
       "      <td>0.0</td>\n",
       "      <td>...</td>\n",
       "      <td>0.0</td>\n",
       "      <td>1.0</td>\n",
       "      <td>0.0</td>\n",
       "      <td>0.0</td>\n",
       "      <td>1.0</td>\n",
       "      <td>0.0</td>\n",
       "      <td>0.0</td>\n",
       "      <td>0.0</td>\n",
       "      <td>0.0</td>\n",
       "      <td>neptune</td>\n",
       "    </tr>\n",
       "    <tr>\n",
       "      <th>1</th>\n",
       "      <td>0.000035</td>\n",
       "      <td>2.066513e-04</td>\n",
       "      <td>0.000000</td>\n",
       "      <td>0.0</td>\n",
       "      <td>0.0</td>\n",
       "      <td>0.0</td>\n",
       "      <td>0.0</td>\n",
       "      <td>0.0</td>\n",
       "      <td>0.0</td>\n",
       "      <td>0.0</td>\n",
       "      <td>...</td>\n",
       "      <td>1.0</td>\n",
       "      <td>0.0</td>\n",
       "      <td>0.0</td>\n",
       "      <td>1.0</td>\n",
       "      <td>0.0</td>\n",
       "      <td>0.0</td>\n",
       "      <td>0.0</td>\n",
       "      <td>0.0</td>\n",
       "      <td>0.0</td>\n",
       "      <td>normal</td>\n",
       "    </tr>\n",
       "    <tr>\n",
       "      <th>2</th>\n",
       "      <td>0.000000</td>\n",
       "      <td>3.183413e-07</td>\n",
       "      <td>0.000000</td>\n",
       "      <td>0.0</td>\n",
       "      <td>0.0</td>\n",
       "      <td>0.0</td>\n",
       "      <td>0.0</td>\n",
       "      <td>0.0</td>\n",
       "      <td>0.0</td>\n",
       "      <td>0.0</td>\n",
       "      <td>...</td>\n",
       "      <td>1.0</td>\n",
       "      <td>0.0</td>\n",
       "      <td>0.0</td>\n",
       "      <td>1.0</td>\n",
       "      <td>0.0</td>\n",
       "      <td>0.0</td>\n",
       "      <td>0.0</td>\n",
       "      <td>0.0</td>\n",
       "      <td>0.0</td>\n",
       "      <td>saint</td>\n",
       "    </tr>\n",
       "    <tr>\n",
       "      <th>3</th>\n",
       "      <td>0.000017</td>\n",
       "      <td>0.000000e+00</td>\n",
       "      <td>0.000011</td>\n",
       "      <td>0.0</td>\n",
       "      <td>0.0</td>\n",
       "      <td>0.0</td>\n",
       "      <td>0.0</td>\n",
       "      <td>0.0</td>\n",
       "      <td>0.0</td>\n",
       "      <td>0.0</td>\n",
       "      <td>...</td>\n",
       "      <td>1.0</td>\n",
       "      <td>0.0</td>\n",
       "      <td>0.0</td>\n",
       "      <td>1.0</td>\n",
       "      <td>0.0</td>\n",
       "      <td>0.0</td>\n",
       "      <td>0.0</td>\n",
       "      <td>0.0</td>\n",
       "      <td>0.0</td>\n",
       "      <td>mscan</td>\n",
       "    </tr>\n",
       "    <tr>\n",
       "      <th>4</th>\n",
       "      <td>0.000000</td>\n",
       "      <td>4.249857e-06</td>\n",
       "      <td>0.010784</td>\n",
       "      <td>0.0</td>\n",
       "      <td>0.0</td>\n",
       "      <td>0.0</td>\n",
       "      <td>0.0</td>\n",
       "      <td>0.0</td>\n",
       "      <td>0.0</td>\n",
       "      <td>0.0</td>\n",
       "      <td>...</td>\n",
       "      <td>1.0</td>\n",
       "      <td>0.0</td>\n",
       "      <td>0.0</td>\n",
       "      <td>1.0</td>\n",
       "      <td>0.0</td>\n",
       "      <td>0.0</td>\n",
       "      <td>1.0</td>\n",
       "      <td>0.0</td>\n",
       "      <td>0.0</td>\n",
       "      <td>normal</td>\n",
       "    </tr>\n",
       "  </tbody>\n",
       "</table>\n",
       "<p>5 rows × 56 columns</p>\n",
       "</div>"
      ],
      "text/plain": [
       "   duration     src_bytes  dst_bytes  wrong_fragment  urgent  hot  \\\n",
       "0  0.000000  0.000000e+00   0.000000             0.0     0.0  0.0   \n",
       "1  0.000035  2.066513e-04   0.000000             0.0     0.0  0.0   \n",
       "2  0.000000  3.183413e-07   0.000000             0.0     0.0  0.0   \n",
       "3  0.000017  0.000000e+00   0.000011             0.0     0.0  0.0   \n",
       "4  0.000000  4.249857e-06   0.010784             0.0     0.0  0.0   \n",
       "\n",
       "   num_failed_logins  num_compromised  root_shell  su_attempted  ...    1  \\\n",
       "0                0.0              0.0         0.0           0.0  ...  0.0   \n",
       "1                0.0              0.0         0.0           0.0  ...  1.0   \n",
       "2                0.0              0.0         0.0           0.0  ...  1.0   \n",
       "3                0.0              0.0         0.0           0.0  ...  1.0   \n",
       "4                0.0              0.0         0.0           0.0  ...  1.0   \n",
       "\n",
       "     2  prot_1  prot_2  prot_3  land  logged_in  is_host_login  \\\n",
       "0  1.0     0.0     0.0     1.0   0.0        0.0            0.0   \n",
       "1  0.0     0.0     1.0     0.0   0.0        0.0            0.0   \n",
       "2  0.0     0.0     1.0     0.0   0.0        0.0            0.0   \n",
       "3  0.0     0.0     1.0     0.0   0.0        0.0            0.0   \n",
       "4  0.0     0.0     1.0     0.0   0.0        1.0            0.0   \n",
       "\n",
       "   is_guest_login     type  \n",
       "0             0.0  neptune  \n",
       "1             0.0   normal  \n",
       "2             0.0    saint  \n",
       "3             0.0    mscan  \n",
       "4             0.0   normal  \n",
       "\n",
       "[5 rows x 56 columns]"
      ]
     },
     "execution_count": 6,
     "metadata": {},
     "output_type": "execute_result"
    }
   ],
   "source": [
    "test.head()"
   ]
  },
  {
   "cell_type": "code",
   "execution_count": 7,
   "id": "fdb4e76a-ae06-4ac2-843e-45974ed8e550",
   "metadata": {},
   "outputs": [
    {
     "data": {
      "text/html": [
       "<div>\n",
       "<style scoped>\n",
       "    .dataframe tbody tr th:only-of-type {\n",
       "        vertical-align: middle;\n",
       "    }\n",
       "\n",
       "    .dataframe tbody tr th {\n",
       "        vertical-align: top;\n",
       "    }\n",
       "\n",
       "    .dataframe thead th {\n",
       "        text-align: right;\n",
       "    }\n",
       "</style>\n",
       "<table border=\"1\" class=\"dataframe\">\n",
       "  <thead>\n",
       "    <tr style=\"text-align: right;\">\n",
       "      <th></th>\n",
       "      <th>duration</th>\n",
       "      <th>src_bytes</th>\n",
       "      <th>dst_bytes</th>\n",
       "      <th>wrong_fragment</th>\n",
       "      <th>urgent</th>\n",
       "      <th>hot</th>\n",
       "      <th>num_failed_logins</th>\n",
       "      <th>num_compromised</th>\n",
       "      <th>root_shell</th>\n",
       "      <th>su_attempted</th>\n",
       "      <th>...</th>\n",
       "      <th>1</th>\n",
       "      <th>2</th>\n",
       "      <th>prot_1</th>\n",
       "      <th>prot_2</th>\n",
       "      <th>prot_3</th>\n",
       "      <th>land</th>\n",
       "      <th>logged_in</th>\n",
       "      <th>is_host_login</th>\n",
       "      <th>is_guest_login</th>\n",
       "      <th>type</th>\n",
       "    </tr>\n",
       "  </thead>\n",
       "  <tbody>\n",
       "    <tr>\n",
       "      <th>0</th>\n",
       "      <td>0.0</td>\n",
       "      <td>1.057999e-07</td>\n",
       "      <td>0.000000e+00</td>\n",
       "      <td>0.0</td>\n",
       "      <td>0.0</td>\n",
       "      <td>0.0</td>\n",
       "      <td>0.0</td>\n",
       "      <td>0.0</td>\n",
       "      <td>0.0</td>\n",
       "      <td>0.0</td>\n",
       "      <td>...</td>\n",
       "      <td>0.0</td>\n",
       "      <td>1.0</td>\n",
       "      <td>0.0</td>\n",
       "      <td>0.0</td>\n",
       "      <td>1.0</td>\n",
       "      <td>0.0</td>\n",
       "      <td>0.0</td>\n",
       "      <td>0.0</td>\n",
       "      <td>0.0</td>\n",
       "      <td>normal</td>\n",
       "    </tr>\n",
       "    <tr>\n",
       "      <th>1</th>\n",
       "      <td>0.0</td>\n",
       "      <td>0.000000e+00</td>\n",
       "      <td>0.000000e+00</td>\n",
       "      <td>0.0</td>\n",
       "      <td>0.0</td>\n",
       "      <td>0.0</td>\n",
       "      <td>0.0</td>\n",
       "      <td>0.0</td>\n",
       "      <td>0.0</td>\n",
       "      <td>0.0</td>\n",
       "      <td>...</td>\n",
       "      <td>1.0</td>\n",
       "      <td>0.0</td>\n",
       "      <td>0.0</td>\n",
       "      <td>1.0</td>\n",
       "      <td>0.0</td>\n",
       "      <td>0.0</td>\n",
       "      <td>0.0</td>\n",
       "      <td>0.0</td>\n",
       "      <td>0.0</td>\n",
       "      <td>neptune</td>\n",
       "    </tr>\n",
       "    <tr>\n",
       "      <th>2</th>\n",
       "      <td>0.0</td>\n",
       "      <td>1.681203e-07</td>\n",
       "      <td>6.223962e-06</td>\n",
       "      <td>0.0</td>\n",
       "      <td>0.0</td>\n",
       "      <td>0.0</td>\n",
       "      <td>0.0</td>\n",
       "      <td>0.0</td>\n",
       "      <td>0.0</td>\n",
       "      <td>0.0</td>\n",
       "      <td>...</td>\n",
       "      <td>1.0</td>\n",
       "      <td>0.0</td>\n",
       "      <td>0.0</td>\n",
       "      <td>1.0</td>\n",
       "      <td>0.0</td>\n",
       "      <td>0.0</td>\n",
       "      <td>1.0</td>\n",
       "      <td>0.0</td>\n",
       "      <td>0.0</td>\n",
       "      <td>normal</td>\n",
       "    </tr>\n",
       "    <tr>\n",
       "      <th>3</th>\n",
       "      <td>0.0</td>\n",
       "      <td>1.442067e-07</td>\n",
       "      <td>3.206260e-07</td>\n",
       "      <td>0.0</td>\n",
       "      <td>0.0</td>\n",
       "      <td>0.0</td>\n",
       "      <td>0.0</td>\n",
       "      <td>0.0</td>\n",
       "      <td>0.0</td>\n",
       "      <td>0.0</td>\n",
       "      <td>...</td>\n",
       "      <td>1.0</td>\n",
       "      <td>0.0</td>\n",
       "      <td>0.0</td>\n",
       "      <td>1.0</td>\n",
       "      <td>0.0</td>\n",
       "      <td>0.0</td>\n",
       "      <td>1.0</td>\n",
       "      <td>0.0</td>\n",
       "      <td>0.0</td>\n",
       "      <td>normal</td>\n",
       "    </tr>\n",
       "    <tr>\n",
       "      <th>4</th>\n",
       "      <td>0.0</td>\n",
       "      <td>0.000000e+00</td>\n",
       "      <td>0.000000e+00</td>\n",
       "      <td>0.0</td>\n",
       "      <td>0.0</td>\n",
       "      <td>0.0</td>\n",
       "      <td>0.0</td>\n",
       "      <td>0.0</td>\n",
       "      <td>0.0</td>\n",
       "      <td>0.0</td>\n",
       "      <td>...</td>\n",
       "      <td>1.0</td>\n",
       "      <td>0.0</td>\n",
       "      <td>0.0</td>\n",
       "      <td>1.0</td>\n",
       "      <td>0.0</td>\n",
       "      <td>0.0</td>\n",
       "      <td>0.0</td>\n",
       "      <td>0.0</td>\n",
       "      <td>0.0</td>\n",
       "      <td>neptune</td>\n",
       "    </tr>\n",
       "  </tbody>\n",
       "</table>\n",
       "<p>5 rows × 56 columns</p>\n",
       "</div>"
      ],
      "text/plain": [
       "   duration     src_bytes     dst_bytes  wrong_fragment  urgent  hot  \\\n",
       "0       0.0  1.057999e-07  0.000000e+00             0.0     0.0  0.0   \n",
       "1       0.0  0.000000e+00  0.000000e+00             0.0     0.0  0.0   \n",
       "2       0.0  1.681203e-07  6.223962e-06             0.0     0.0  0.0   \n",
       "3       0.0  1.442067e-07  3.206260e-07             0.0     0.0  0.0   \n",
       "4       0.0  0.000000e+00  0.000000e+00             0.0     0.0  0.0   \n",
       "\n",
       "   num_failed_logins  num_compromised  root_shell  su_attempted  ...    1  \\\n",
       "0                0.0              0.0         0.0           0.0  ...  0.0   \n",
       "1                0.0              0.0         0.0           0.0  ...  1.0   \n",
       "2                0.0              0.0         0.0           0.0  ...  1.0   \n",
       "3                0.0              0.0         0.0           0.0  ...  1.0   \n",
       "4                0.0              0.0         0.0           0.0  ...  1.0   \n",
       "\n",
       "     2  prot_1  prot_2  prot_3  land  logged_in  is_host_login  \\\n",
       "0  1.0     0.0     0.0     1.0   0.0        0.0            0.0   \n",
       "1  0.0     0.0     1.0     0.0   0.0        0.0            0.0   \n",
       "2  0.0     0.0     1.0     0.0   0.0        1.0            0.0   \n",
       "3  0.0     0.0     1.0     0.0   0.0        1.0            0.0   \n",
       "4  0.0     0.0     1.0     0.0   0.0        0.0            0.0   \n",
       "\n",
       "   is_guest_login     type  \n",
       "0             0.0   normal  \n",
       "1             0.0  neptune  \n",
       "2             0.0   normal  \n",
       "3             0.0   normal  \n",
       "4             0.0  neptune  \n",
       "\n",
       "[5 rows x 56 columns]"
      ]
     },
     "execution_count": 7,
     "metadata": {},
     "output_type": "execute_result"
    }
   ],
   "source": [
    "train.head()"
   ]
  },
  {
   "cell_type": "code",
   "execution_count": 8,
   "id": "88995f0b-3152-4e26-90a0-3ae1f15730b3",
   "metadata": {},
   "outputs": [
    {
     "data": {
      "text/plain": [
       "(125972, 56)"
      ]
     },
     "execution_count": 8,
     "metadata": {},
     "output_type": "execute_result"
    }
   ],
   "source": [
    "train.shape"
   ]
  },
  {
   "cell_type": "code",
   "execution_count": 9,
   "id": "79c5e846-95ae-4015-9f95-ed52dec6a542",
   "metadata": {},
   "outputs": [
    {
     "data": {
      "text/plain": [
       "(125947, 56)"
      ]
     },
     "execution_count": 9,
     "metadata": {},
     "output_type": "execute_result"
    }
   ],
   "source": [
    "test.shape"
   ]
  },
  {
   "cell_type": "code",
   "execution_count": 10,
   "id": "473b89e4-29da-4842-92eb-3ae6f5f2af87",
   "metadata": {},
   "outputs": [],
   "source": [
    "train = train.dropna()\n",
    "test = test.dropna()"
   ]
  },
  {
   "cell_type": "code",
   "execution_count": 11,
   "id": "e4292331-b362-4c6b-b1a3-df4f120b37a6",
   "metadata": {},
   "outputs": [],
   "source": [
    "test = test.drop_duplicates()\n",
    "train = train.drop_duplicates()"
   ]
  },
  {
   "cell_type": "code",
   "execution_count": 12,
   "id": "54fd87ee-2bce-4bbc-a389-da38c923dac6",
   "metadata": {},
   "outputs": [
    {
     "data": {
      "text/plain": [
       "(123753, 56)"
      ]
     },
     "execution_count": 12,
     "metadata": {},
     "output_type": "execute_result"
    }
   ],
   "source": [
    "train.shape"
   ]
  },
  {
   "cell_type": "code",
   "execution_count": 13,
   "id": "3f8083f1-d2d5-49c2-bfb9-9180905194a6",
   "metadata": {},
   "outputs": [
    {
     "data": {
      "text/plain": [
       "(22376, 56)"
      ]
     },
     "execution_count": 13,
     "metadata": {},
     "output_type": "execute_result"
    }
   ],
   "source": [
    "test.shape"
   ]
  },
  {
   "cell_type": "code",
   "execution_count": 14,
   "id": "05f50dcf-bb95-4db8-9fef-5727a9ca6bf8",
   "metadata": {},
   "outputs": [
    {
     "data": {
      "text/plain": [
       "normal             66057\n",
       "neptune            40315\n",
       "satan               3617\n",
       "ipsweep             3594\n",
       "portsweep           2925\n",
       "smurf               2642\n",
       "nmap                1490\n",
       "back                 956\n",
       "teardrop             891\n",
       "warezclient          890\n",
       "pod                  201\n",
       "guess_passwd          53\n",
       "buffer_overflow       30\n",
       "warezmaster           20\n",
       "land                  18\n",
       "imap                  11\n",
       "rootkit               10\n",
       "loadmodule             9\n",
       "ftp_write              8\n",
       "multihop               7\n",
       "phf                    4\n",
       "perl                   3\n",
       "spy                    2\n",
       "Name: type, dtype: int64"
      ]
     },
     "execution_count": 14,
     "metadata": {},
     "output_type": "execute_result"
    }
   ],
   "source": [
    "train[\"type\"].value_counts()"
   ]
  },
  {
   "cell_type": "code",
   "execution_count": 15,
   "id": "8a28a292-875b-4661-8c04-3dec728804c6",
   "metadata": {},
   "outputs": [
    {
     "data": {
      "text/plain": [
       "normal             9711\n",
       "neptune            4495\n",
       "guess_passwd       1231\n",
       "mscan               996\n",
       "warezmaster         944\n",
       "apache2             737\n",
       "satan               731\n",
       "processtable        685\n",
       "smurf               665\n",
       "back                359\n",
       "snmpguess           331\n",
       "saint               318\n",
       "mailbomb            293\n",
       "snmpgetattack       178\n",
       "portsweep           156\n",
       "ipsweep             141\n",
       "httptunnel          133\n",
       "nmap                 73\n",
       "pod                  41\n",
       "buffer_overflow      20\n",
       "multihop             18\n",
       "named                17\n",
       "ps                   15\n",
       "sendmail             14\n",
       "rootkit              13\n",
       "xterm                13\n",
       "teardrop             12\n",
       "xlock                 9\n",
       "land                  7\n",
       "xsnoop                4\n",
       "ftp_write             3\n",
       "worm                  2\n",
       "loadmodule            2\n",
       "perl                  2\n",
       "sqlattack             2\n",
       "udpstorm              2\n",
       "phf                   2\n",
       "imap                  1\n",
       "Name: type, dtype: int64"
      ]
     },
     "execution_count": 15,
     "metadata": {},
     "output_type": "execute_result"
    }
   ],
   "source": [
    "test[\"type\"].value_counts()"
   ]
  },
  {
   "cell_type": "code",
   "execution_count": 16,
   "id": "a30182e3-7b95-402c-8cf8-3e17add10930",
   "metadata": {},
   "outputs": [],
   "source": [
    "y_test = test[\"type\"].apply(lambda x: x == \"normal\")\n",
    "y_train = train[\"type\"].apply(lambda x: x == \"normal\")"
   ]
  },
  {
   "cell_type": "code",
   "execution_count": 17,
   "id": "b82dece6-6e18-4e96-8071-1f42378dacfd",
   "metadata": {},
   "outputs": [],
   "source": [
    "X_train = train.drop(\"type\",axis = 1)\n",
    "X_test =  test.drop(\"type\",axis = 1)"
   ]
  },
  {
   "cell_type": "code",
   "execution_count": 18,
   "id": "8da4ee60-730d-4e28-a209-e658cfd51ad3",
   "metadata": {},
   "outputs": [
    {
     "data": {
      "text/plain": [
       "0"
      ]
     },
     "execution_count": 18,
     "metadata": {},
     "output_type": "execute_result"
    }
   ],
   "source": [
    "X_train.isnull().sum().sum()"
   ]
  },
  {
   "cell_type": "code",
   "execution_count": 19,
   "id": "61fcae80-7014-4cbe-a68f-5091a26dfaf9",
   "metadata": {},
   "outputs": [
    {
     "data": {
      "text/plain": [
       "(123753, 55)"
      ]
     },
     "execution_count": 19,
     "metadata": {},
     "output_type": "execute_result"
    }
   ],
   "source": [
    "X_train.shape"
   ]
  },
  {
   "cell_type": "code",
   "execution_count": 20,
   "id": "ece0a909-39e9-4b94-8f3f-62131b48d720",
   "metadata": {},
   "outputs": [
    {
     "name": "stdout",
     "output_type": "stream",
     "text": [
      "9711 / 22376\n"
     ]
    }
   ],
   "source": [
    "print(str(sum(y_test)) + \" / \" + str(len(y_test)))"
   ]
  },
  {
   "cell_type": "code",
   "execution_count": 21,
   "id": "b0392847-5050-478f-ad03-a7f2259c4556",
   "metadata": {},
   "outputs": [
    {
     "name": "stdout",
     "output_type": "stream",
     "text": [
      "66057 / 123753\n"
     ]
    }
   ],
   "source": [
    "print(str(sum(y_train)) + \" / \" + str(len(y_train)))"
   ]
  },
  {
   "cell_type": "markdown",
   "id": "dc3fc29f-fa39-45f4-9ec4-ba40dfbc7244",
   "metadata": {},
   "source": [
    "## train"
   ]
  },
  {
   "cell_type": "code",
   "execution_count": 22,
   "id": "514bd3df-36df-4089-b1b8-97d6c69c7482",
   "metadata": {},
   "outputs": [],
   "source": [
    "@timing\n",
    "def train_model(model,X_train, y_train):\n",
    "    model.fit(X_train, y_train)\n",
    "    return model"
   ]
  },
  {
   "cell_type": "code",
   "execution_count": 23,
   "id": "29fb85d3-da74-476a-a80d-84762eec667d",
   "metadata": {},
   "outputs": [],
   "source": [
    "@timing\n",
    "def run_model(model, X_test, y_test):\n",
    "    y_pred = model.predict(X_test)\n",
    "    return y_pred   "
   ]
  },
  {
   "cell_type": "code",
   "execution_count": 24,
   "id": "748b92d2-11ee-4ed8-886f-4805add0fe2f",
   "metadata": {},
   "outputs": [],
   "source": [
    "from sklearn.metrics import precision_score\n",
    "from sklearn.metrics import recall_score\n",
    "from sklearn.metrics import roc_auc_score\n",
    "from sklearn.metrics import f1_score\n",
    "def eval_model(y_test,y_pred):\n",
    "    pres = precision_score(y_test, y_pred)\n",
    "    rec = recall_score(y_test, y_pred)\n",
    "    roc = roc_auc_score(y_test, y_pred)\n",
    "    f1 = f1_score(y_test, y_pred)\n",
    "    return pres,rec, roc, f1"
   ]
  },
  {
   "cell_type": "code",
   "execution_count": 39,
   "id": "06b4bb01-08f9-4d61-a90d-7c436de993a6",
   "metadata": {},
   "outputs": [
    {
     "name": "stdout",
     "output_type": "stream",
     "text": [
      "train_model function took 3931.576 ms\n"
     ]
    }
   ],
   "source": [
    "from sklearn.ensemble import HistGradientBoostingClassifier\n",
    "model = HistGradientBoostingClassifier(learning_rate = 0.08, max_depth = 50, max_iter = 300, max_leaf_nodes =  127, min_samples_leaf = 50)\n",
    "model = train_model(model,X_train,y_train)"
   ]
  },
  {
   "cell_type": "code",
   "execution_count": 47,
   "id": "60f23ac6-c2dc-4c5f-91a6-6f3a2adbb595",
   "metadata": {},
   "outputs": [],
   "source": [
    "y_pred = np.ones(len(X_test))"
   ]
  },
  {
   "cell_type": "code",
   "execution_count": 33,
   "id": "cff6fbf8-d27c-40f8-af4a-ed26ca98f5b9",
   "metadata": {},
   "outputs": [],
   "source": [
    "y_pred = y_pred.reshape(len(y_pred), 1)"
   ]
  },
  {
   "cell_type": "code",
   "execution_count": 44,
   "id": "fb905b35-3572-484d-ac00-1dbe08c85a05",
   "metadata": {},
   "outputs": [
    {
     "data": {
      "text/plain": [
       "9969"
      ]
     },
     "execution_count": 44,
     "metadata": {},
     "output_type": "execute_result"
    }
   ],
   "source": [
    "sum(y_pred)"
   ]
  },
  {
   "cell_type": "code",
   "execution_count": 30,
   "id": "f405646b-74b1-4845-99ef-2e19a3f3ca50",
   "metadata": {},
   "outputs": [],
   "source": [
    "y_pred = np.array(y_pred, dtype=bool)"
   ]
  },
  {
   "cell_type": "code",
   "execution_count": 36,
   "id": "302e2e34-6072-48c6-a887-767cb55ec278",
   "metadata": {},
   "outputs": [],
   "source": [
    "y_pred[0] = True"
   ]
  },
  {
   "cell_type": "code",
   "execution_count": 40,
   "id": "bdd12df8-fa19-4e25-8be7-ff66dd11a555",
   "metadata": {},
   "outputs": [
    {
     "name": "stdout",
     "output_type": "stream",
     "text": [
      "run_model function took 37.188 ms\n"
     ]
    }
   ],
   "source": [
    "y_pred = run_model(model, X_test, y_test)"
   ]
  },
  {
   "cell_type": "code",
   "execution_count": 48,
   "id": "e064d65e-d961-4fc4-b30f-cb9e0d916adf",
   "metadata": {},
   "outputs": [
    {
     "data": {
      "text/plain": [
       "(0.4339917769038255, 1.0, 0.5, 0.6052918627481534)"
      ]
     },
     "execution_count": 48,
     "metadata": {},
     "output_type": "execute_result"
    }
   ],
   "source": [
    "eval_model(y_test,y_pred)"
   ]
  },
  {
   "cell_type": "code",
   "execution_count": 27,
   "id": "592264d9-879b-49c6-b682-518582c9bb86",
   "metadata": {},
   "outputs": [
    {
     "name": "stdout",
     "output_type": "stream",
     "text": [
      "train_model function took 16544.221 ms\n"
     ]
    }
   ],
   "source": [
    "from sklearn.ensemble import BaggingClassifier\n",
    "model = BaggingClassifier(n_estimators=150, random_state=0,n_jobs = -1)\n",
    "model = train_model(model,X_train,y_train)"
   ]
  },
  {
   "cell_type": "code",
   "execution_count": 28,
   "id": "e457cea5-8543-4c10-8ffb-e73618b3585f",
   "metadata": {},
   "outputs": [
    {
     "name": "stdout",
     "output_type": "stream",
     "text": [
      "run_model function took 858.219 ms\n"
     ]
    }
   ],
   "source": [
    "y_pred = run_model(model, X_test, y_test)"
   ]
  },
  {
   "cell_type": "code",
   "execution_count": 29,
   "id": "9a2995e7-3029-464e-a0e6-dbe7dc1e04ad",
   "metadata": {},
   "outputs": [
    {
     "data": {
      "text/plain": [
       "(0.6722900215362527,\n",
       " 0.7714962413757595,\n",
       " 0.7415712553108564,\n",
       " 0.7184847758331336)"
      ]
     },
     "execution_count": 29,
     "metadata": {},
     "output_type": "execute_result"
    }
   ],
   "source": [
    "eval_model(y_test,y_pred)"
   ]
  },
  {
   "cell_type": "code",
   "execution_count": 30,
   "id": "f005316f-0f12-4583-80ca-90950a96fa86",
   "metadata": {},
   "outputs": [
    {
     "name": "stdout",
     "output_type": "stream",
     "text": [
      "train_model function took 2843.699 ms\n"
     ]
    }
   ],
   "source": [
    "from sklearn.ensemble import RandomForestClassifier\n",
    "model = RandomForestClassifier(n_estimators = 150, random_state=0,n_jobs = -1)\n",
    "model = train_model(model,X_train,y_train)"
   ]
  },
  {
   "cell_type": "code",
   "execution_count": 31,
   "id": "732ee50e-4935-49fc-929c-33f454ed76c5",
   "metadata": {},
   "outputs": [
    {
     "name": "stdout",
     "output_type": "stream",
     "text": [
      "run_model function took 225.474 ms\n"
     ]
    }
   ],
   "source": [
    "y_pred = run_model(model, X_test, y_test)"
   ]
  },
  {
   "cell_type": "code",
   "execution_count": 32,
   "id": "57e5b1c4-4c32-47ef-8d76-bac484a32605",
   "metadata": {},
   "outputs": [
    {
     "data": {
      "text/plain": [
       "(0.6801399502808213,\n",
       " 0.7606837606837606,\n",
       " 0.7431922553912289,\n",
       " 0.7181606066498153)"
      ]
     },
     "execution_count": 32,
     "metadata": {},
     "output_type": "execute_result"
    }
   ],
   "source": [
    "eval_model(y_test,y_pred)"
   ]
  },
  {
   "cell_type": "code",
   "execution_count": 33,
   "id": "b48495e2-395b-47f0-92b2-59e3bee5a9be",
   "metadata": {},
   "outputs": [
    {
     "name": "stdout",
     "output_type": "stream",
     "text": [
      "train_model function took 2940.314 ms\n"
     ]
    }
   ],
   "source": [
    "from xgboost import XGBClassifier\n",
    "model = XGBClassifier(use_label_encoder=False, eval_metric='mlogloss')\n",
    "model = train_model(model,X_train,y_train)"
   ]
  },
  {
   "cell_type": "code",
   "execution_count": 34,
   "id": "3fdbd23c-3d79-484f-9a54-95734ef4bb12",
   "metadata": {},
   "outputs": [
    {
     "name": "stdout",
     "output_type": "stream",
     "text": [
      "run_model function took 11.817 ms\n"
     ]
    }
   ],
   "source": [
    "y_pred = run_model(model, X_test, y_test)"
   ]
  },
  {
   "cell_type": "code",
   "execution_count": 35,
   "id": "b326a2fb-6fb4-41a2-b943-70dc21048983",
   "metadata": {},
   "outputs": [
    {
     "data": {
      "text/plain": [
       "(0.7333458259158625,\n",
       " 0.8059932035835651,\n",
       " 0.7906397127274318,\n",
       " 0.7679552590266877)"
      ]
     },
     "execution_count": 35,
     "metadata": {},
     "output_type": "execute_result"
    }
   ],
   "source": [
    "eval_model(y_test,y_pred)"
   ]
  },
  {
   "cell_type": "code",
   "execution_count": 41,
   "id": "07ae9457-87c3-4548-a020-2391ddcaf502",
   "metadata": {},
   "outputs": [
    {
     "name": "stdout",
     "output_type": "stream",
     "text": [
      "train_model function took 146024.613 ms\n"
     ]
    }
   ],
   "source": [
    "from sklearn.neural_network import MLPClassifier\n",
    "model = MLPClassifier(random_state=1, max_iter=200)\n",
    "model = train_model(model,X_train.head(1000000),y_train.head(1000000))"
   ]
  },
  {
   "cell_type": "code",
   "execution_count": 42,
   "id": "7c3a324f-e289-4cd2-9181-ce400f618bcc",
   "metadata": {},
   "outputs": [
    {
     "name": "stdout",
     "output_type": "stream",
     "text": [
      "run_model function took 107.505 ms\n"
     ]
    }
   ],
   "source": [
    "y_pred = run_model(model, X_test, y_test)"
   ]
  },
  {
   "cell_type": "code",
   "execution_count": 43,
   "id": "0936881f-b715-46c4-b6ee-8d791b252140",
   "metadata": {},
   "outputs": [
    {
     "data": {
      "text/plain": [
       "(0.7204385277995301,\n",
       " 0.7579034085058182,\n",
       " 0.7662000264005602,\n",
       " 0.7386962412806743)"
      ]
     },
     "execution_count": 43,
     "metadata": {},
     "output_type": "execute_result"
    }
   ],
   "source": [
    "eval_model(y_test,y_pred)"
   ]
  },
  {
   "cell_type": "code",
   "execution_count": 38,
   "id": "6b766246-9ad1-44af-84f0-ea364393ecee",
   "metadata": {},
   "outputs": [
    {
     "name": "stdout",
     "output_type": "stream",
     "text": [
      "train_model function took 9034.120 ms\n"
     ]
    },
    {
     "name": "stderr",
     "output_type": "stream",
     "text": [
      "/opt/lhm/tljh/user/lib/python3.7/site-packages/sklearn/svm/_base.py:289: ConvergenceWarning: Solver terminated early (max_iter=200).  Consider pre-processing your data with StandardScaler or MinMaxScaler.\n",
      "  ConvergenceWarning,\n"
     ]
    }
   ],
   "source": [
    "from sklearn.svm import SVC\n",
    "model = SVC(random_state=1, max_iter=200)\n",
    "model = train_model(model,X_train.head(1000000),y_train.head(1000000))"
   ]
  },
  {
   "cell_type": "code",
   "execution_count": 39,
   "id": "9bc5e530-55a1-47d8-af74-7922db425202",
   "metadata": {},
   "outputs": [
    {
     "name": "stdout",
     "output_type": "stream",
     "text": [
      "run_model function took 1338.176 ms\n"
     ]
    }
   ],
   "source": [
    "y_pred = run_model(model, X_test, y_test)"
   ]
  },
  {
   "cell_type": "code",
   "execution_count": 40,
   "id": "05cd40b4-14c4-4116-b371-78aef43dcf76",
   "metadata": {},
   "outputs": [
    {
     "data": {
      "text/plain": [
       "(0.248, 0.0031922562043043973, 0.497885113494967, 0.0063033753558357055)"
      ]
     },
     "execution_count": 40,
     "metadata": {},
     "output_type": "execute_result"
    }
   ],
   "source": [
    "eval_model(y_test,y_pred)"
   ]
  },
  {
   "cell_type": "code",
   "execution_count": 51,
   "id": "4ecb13f4-2d0d-48b6-a365-534b3d8d3d2e",
   "metadata": {},
   "outputs": [
    {
     "name": "stdout",
     "output_type": "stream",
     "text": [
      "train_model function took 163792.726 ms\n"
     ]
    }
   ],
   "source": [
    "from sklearn.ensemble import VotingClassifier\n",
    "from xgboost import XGBClassifier\n",
    "from sklearn.ensemble import HistGradientBoostingClassifier\n",
    "from sklearn.neural_network import MLPClassifier\n",
    "estimators=[(\"gard\", HistGradientBoostingClassifier(learning_rate = 0.08, max_depth = 50, max_iter = 300, max_leaf_nodes =  127, min_samples_leaf = 50)\n",
    "), (\"mlp\",MLPClassifier(random_state=1, max_iter=200)),(\"SVC\",XGBClassifier(use_label_encoder=False, eval_metric='mlogloss'))]\n",
    "model = VotingClassifier(estimators, voting=\"hard\")\n",
    "model = train_model(model,X_train.head(1500000),y_train.head(1500000))"
   ]
  },
  {
   "cell_type": "code",
   "execution_count": 52,
   "id": "b6749cf0-1ce7-47b4-99c0-218be58fe4a0",
   "metadata": {},
   "outputs": [
    {
     "name": "stdout",
     "output_type": "stream",
     "text": [
      "run_model function took 319.388 ms\n"
     ]
    }
   ],
   "source": [
    "y_pred = run_model(model, X_test, y_test)"
   ]
  },
  {
   "cell_type": "code",
   "execution_count": 53,
   "id": "289ec12a-b661-4297-b32d-3108e781cf0c",
   "metadata": {},
   "outputs": [
    {
     "data": {
      "text/plain": [
       "(0.737063778580024, 0.7568736484399134, 0.7749232040067708, 0.7468373723517756)"
      ]
     },
     "execution_count": 53,
     "metadata": {},
     "output_type": "execute_result"
    }
   ],
   "source": [
    "eval_model(y_test,y_pred)"
   ]
  },
  {
   "cell_type": "code",
   "execution_count": null,
   "id": "596e5035-9ab8-4532-b569-b23cf3266c5f",
   "metadata": {},
   "outputs": [],
   "source": []
  }
 ],
 "metadata": {
  "kernelspec": {
   "display_name": "Python 3 (ipykernel)",
   "language": "python",
   "name": "python3"
  },
  "language_info": {
   "codemirror_mode": {
    "name": "ipython",
    "version": 3
   },
   "file_extension": ".py",
   "mimetype": "text/x-python",
   "name": "python",
   "nbconvert_exporter": "python",
   "pygments_lexer": "ipython3",
   "version": "3.9.7"
  }
 },
 "nbformat": 4,
 "nbformat_minor": 5
}
