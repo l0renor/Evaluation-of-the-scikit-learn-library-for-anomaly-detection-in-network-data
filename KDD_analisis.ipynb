{
 "cells": [
  {
   "cell_type": "code",
   "execution_count": 1,
   "id": "05400100",
   "metadata": {},
   "outputs": [],
   "source": [
    "import pandas as pd \n",
    "import numpy as np\n",
    "import sklearn"
   ]
  },
  {
   "cell_type": "code",
   "execution_count": 2,
   "id": "ee5b2640-57f5-4553-90d5-e444a9c5e07b",
   "metadata": {},
   "outputs": [
    {
     "name": "stdout",
     "output_type": "stream",
     "text": [
      "1.0.1\n"
     ]
    }
   ],
   "source": [
    "import sklearn\n",
    "print(sklearn.__version__)"
   ]
  },
  {
   "cell_type": "code",
   "execution_count": 3,
   "id": "50348ea7-cfe2-400c-806b-a6912f93f471",
   "metadata": {},
   "outputs": [],
   "source": [
    "import time\n",
    "def timing(f):\n",
    "    def wrap(*args, **kwargs):\n",
    "        time1 = time.time()\n",
    "        ret = f(*args, **kwargs)\n",
    "        time2 = time.time()\n",
    "        print('{:s} function took {:.3f} ms'.format(f.__name__, (time2-time1)*1000.0))\n",
    "\n",
    "        return ret\n",
    "    return wrap"
   ]
  },
  {
   "cell_type": "markdown",
   "id": "1ee316fd-598c-4e4c-927d-09175e941af5",
   "metadata": {},
   "source": [
    "# Load data and x/y"
   ]
  },
  {
   "cell_type": "code",
   "execution_count": 4,
   "id": "6a35cc5e-ca4a-4f66-ab53-80cf6e0b5802",
   "metadata": {},
   "outputs": [],
   "source": [
    "train = pd.read_csv(\"preparedData_KDD_2.csv\",nrows=1000000)\n",
    "test = pd.read_csv(\"preparedData_KDD_test_2.csv\",nrows=1000000)"
   ]
  },
  {
   "cell_type": "code",
   "execution_count": 5,
   "id": "09d4c911-6285-4aa2-995f-c80e51990f05",
   "metadata": {},
   "outputs": [
    {
     "data": {
      "text/html": [
       "<div>\n",
       "<style scoped>\n",
       "    .dataframe tbody tr th:only-of-type {\n",
       "        vertical-align: middle;\n",
       "    }\n",
       "\n",
       "    .dataframe tbody tr th {\n",
       "        vertical-align: top;\n",
       "    }\n",
       "\n",
       "    .dataframe thead th {\n",
       "        text-align: right;\n",
       "    }\n",
       "</style>\n",
       "<table border=\"1\" class=\"dataframe\">\n",
       "  <thead>\n",
       "    <tr style=\"text-align: right;\">\n",
       "      <th></th>\n",
       "      <th>Unnamed: 0</th>\n",
       "      <th>duration</th>\n",
       "      <th>src_bytes</th>\n",
       "      <th>dst_bytes</th>\n",
       "      <th>wrong_fragment</th>\n",
       "      <th>urgent</th>\n",
       "      <th>hot</th>\n",
       "      <th>num_failed_logins</th>\n",
       "      <th>num_compromised</th>\n",
       "      <th>root_shell</th>\n",
       "      <th>...</th>\n",
       "      <th>67</th>\n",
       "      <th>68</th>\n",
       "      <th>69</th>\n",
       "      <th>prot_1</th>\n",
       "      <th>prot_2</th>\n",
       "      <th>prot_3</th>\n",
       "      <th>logged_in</th>\n",
       "      <th>is_host_login</th>\n",
       "      <th>is_guest_login</th>\n",
       "      <th>type</th>\n",
       "    </tr>\n",
       "  </thead>\n",
       "  <tbody>\n",
       "    <tr>\n",
       "      <th>0</th>\n",
       "      <td>0</td>\n",
       "      <td>0.0</td>\n",
       "      <td>1.173944e-07</td>\n",
       "      <td>3.456654e-06</td>\n",
       "      <td>0.0</td>\n",
       "      <td>0.0</td>\n",
       "      <td>0.0</td>\n",
       "      <td>0.0</td>\n",
       "      <td>0.0</td>\n",
       "      <td>0.0</td>\n",
       "      <td>...</td>\n",
       "      <td>0.0</td>\n",
       "      <td>0.0</td>\n",
       "      <td>0.0</td>\n",
       "      <td>0.0</td>\n",
       "      <td>1.0</td>\n",
       "      <td>0.0</td>\n",
       "      <td>1</td>\n",
       "      <td>0</td>\n",
       "      <td>0</td>\n",
       "      <td>normal.</td>\n",
       "    </tr>\n",
       "    <tr>\n",
       "      <th>1</th>\n",
       "      <td>1</td>\n",
       "      <td>0.0</td>\n",
       "      <td>1.710190e-07</td>\n",
       "      <td>9.374494e-07</td>\n",
       "      <td>0.0</td>\n",
       "      <td>0.0</td>\n",
       "      <td>0.0</td>\n",
       "      <td>0.0</td>\n",
       "      <td>0.0</td>\n",
       "      <td>0.0</td>\n",
       "      <td>...</td>\n",
       "      <td>0.0</td>\n",
       "      <td>0.0</td>\n",
       "      <td>0.0</td>\n",
       "      <td>0.0</td>\n",
       "      <td>1.0</td>\n",
       "      <td>0.0</td>\n",
       "      <td>1</td>\n",
       "      <td>0</td>\n",
       "      <td>0</td>\n",
       "      <td>normal.</td>\n",
       "    </tr>\n",
       "    <tr>\n",
       "      <th>2</th>\n",
       "      <td>2</td>\n",
       "      <td>0.0</td>\n",
       "      <td>1.688450e-07</td>\n",
       "      <td>1.551219e-06</td>\n",
       "      <td>0.0</td>\n",
       "      <td>0.0</td>\n",
       "      <td>0.0</td>\n",
       "      <td>0.0</td>\n",
       "      <td>0.0</td>\n",
       "      <td>0.0</td>\n",
       "      <td>...</td>\n",
       "      <td>0.0</td>\n",
       "      <td>0.0</td>\n",
       "      <td>0.0</td>\n",
       "      <td>0.0</td>\n",
       "      <td>1.0</td>\n",
       "      <td>0.0</td>\n",
       "      <td>1</td>\n",
       "      <td>0</td>\n",
       "      <td>0</td>\n",
       "      <td>normal.</td>\n",
       "    </tr>\n",
       "    <tr>\n",
       "      <th>3</th>\n",
       "      <td>3</td>\n",
       "      <td>0.0</td>\n",
       "      <td>1.731929e-07</td>\n",
       "      <td>3.710101e-07</td>\n",
       "      <td>0.0</td>\n",
       "      <td>0.0</td>\n",
       "      <td>0.0</td>\n",
       "      <td>0.0</td>\n",
       "      <td>0.0</td>\n",
       "      <td>0.0</td>\n",
       "      <td>...</td>\n",
       "      <td>0.0</td>\n",
       "      <td>0.0</td>\n",
       "      <td>0.0</td>\n",
       "      <td>0.0</td>\n",
       "      <td>1.0</td>\n",
       "      <td>0.0</td>\n",
       "      <td>1</td>\n",
       "      <td>0</td>\n",
       "      <td>0</td>\n",
       "      <td>normal.</td>\n",
       "    </tr>\n",
       "    <tr>\n",
       "      <th>4</th>\n",
       "      <td>4</td>\n",
       "      <td>0.0</td>\n",
       "      <td>1.724683e-07</td>\n",
       "      <td>9.786727e-07</td>\n",
       "      <td>0.0</td>\n",
       "      <td>0.0</td>\n",
       "      <td>0.0</td>\n",
       "      <td>0.0</td>\n",
       "      <td>0.0</td>\n",
       "      <td>0.0</td>\n",
       "      <td>...</td>\n",
       "      <td>0.0</td>\n",
       "      <td>0.0</td>\n",
       "      <td>0.0</td>\n",
       "      <td>0.0</td>\n",
       "      <td>1.0</td>\n",
       "      <td>0.0</td>\n",
       "      <td>1</td>\n",
       "      <td>0</td>\n",
       "      <td>0</td>\n",
       "      <td>normal.</td>\n",
       "    </tr>\n",
       "    <tr>\n",
       "      <th>...</th>\n",
       "      <td>...</td>\n",
       "      <td>...</td>\n",
       "      <td>...</td>\n",
       "      <td>...</td>\n",
       "      <td>...</td>\n",
       "      <td>...</td>\n",
       "      <td>...</td>\n",
       "      <td>...</td>\n",
       "      <td>...</td>\n",
       "      <td>...</td>\n",
       "      <td>...</td>\n",
       "      <td>...</td>\n",
       "      <td>...</td>\n",
       "      <td>...</td>\n",
       "      <td>...</td>\n",
       "      <td>...</td>\n",
       "      <td>...</td>\n",
       "      <td>...</td>\n",
       "      <td>...</td>\n",
       "      <td>...</td>\n",
       "      <td>...</td>\n",
       "    </tr>\n",
       "    <tr>\n",
       "      <th>999995</th>\n",
       "      <td>999995</td>\n",
       "      <td>0.0</td>\n",
       "      <td>7.478457e-07</td>\n",
       "      <td>0.000000e+00</td>\n",
       "      <td>0.0</td>\n",
       "      <td>0.0</td>\n",
       "      <td>0.0</td>\n",
       "      <td>0.0</td>\n",
       "      <td>0.0</td>\n",
       "      <td>0.0</td>\n",
       "      <td>...</td>\n",
       "      <td>0.0</td>\n",
       "      <td>0.0</td>\n",
       "      <td>0.0</td>\n",
       "      <td>1.0</td>\n",
       "      <td>0.0</td>\n",
       "      <td>0.0</td>\n",
       "      <td>0</td>\n",
       "      <td>0</td>\n",
       "      <td>0</td>\n",
       "      <td>smurf.</td>\n",
       "    </tr>\n",
       "    <tr>\n",
       "      <th>999996</th>\n",
       "      <td>999996</td>\n",
       "      <td>0.0</td>\n",
       "      <td>7.478457e-07</td>\n",
       "      <td>0.000000e+00</td>\n",
       "      <td>0.0</td>\n",
       "      <td>0.0</td>\n",
       "      <td>0.0</td>\n",
       "      <td>0.0</td>\n",
       "      <td>0.0</td>\n",
       "      <td>0.0</td>\n",
       "      <td>...</td>\n",
       "      <td>0.0</td>\n",
       "      <td>0.0</td>\n",
       "      <td>0.0</td>\n",
       "      <td>1.0</td>\n",
       "      <td>0.0</td>\n",
       "      <td>0.0</td>\n",
       "      <td>0</td>\n",
       "      <td>0</td>\n",
       "      <td>0</td>\n",
       "      <td>smurf.</td>\n",
       "    </tr>\n",
       "    <tr>\n",
       "      <th>999997</th>\n",
       "      <td>999997</td>\n",
       "      <td>0.0</td>\n",
       "      <td>7.478457e-07</td>\n",
       "      <td>0.000000e+00</td>\n",
       "      <td>0.0</td>\n",
       "      <td>0.0</td>\n",
       "      <td>0.0</td>\n",
       "      <td>0.0</td>\n",
       "      <td>0.0</td>\n",
       "      <td>0.0</td>\n",
       "      <td>...</td>\n",
       "      <td>0.0</td>\n",
       "      <td>0.0</td>\n",
       "      <td>0.0</td>\n",
       "      <td>1.0</td>\n",
       "      <td>0.0</td>\n",
       "      <td>0.0</td>\n",
       "      <td>0</td>\n",
       "      <td>0</td>\n",
       "      <td>0</td>\n",
       "      <td>smurf.</td>\n",
       "    </tr>\n",
       "    <tr>\n",
       "      <th>999998</th>\n",
       "      <td>999998</td>\n",
       "      <td>0.0</td>\n",
       "      <td>7.478457e-07</td>\n",
       "      <td>0.000000e+00</td>\n",
       "      <td>0.0</td>\n",
       "      <td>0.0</td>\n",
       "      <td>0.0</td>\n",
       "      <td>0.0</td>\n",
       "      <td>0.0</td>\n",
       "      <td>0.0</td>\n",
       "      <td>...</td>\n",
       "      <td>0.0</td>\n",
       "      <td>0.0</td>\n",
       "      <td>0.0</td>\n",
       "      <td>1.0</td>\n",
       "      <td>0.0</td>\n",
       "      <td>0.0</td>\n",
       "      <td>0</td>\n",
       "      <td>0</td>\n",
       "      <td>0</td>\n",
       "      <td>smurf.</td>\n",
       "    </tr>\n",
       "    <tr>\n",
       "      <th>999999</th>\n",
       "      <td>999999</td>\n",
       "      <td>0.0</td>\n",
       "      <td>7.478457e-07</td>\n",
       "      <td>0.000000e+00</td>\n",
       "      <td>0.0</td>\n",
       "      <td>0.0</td>\n",
       "      <td>0.0</td>\n",
       "      <td>0.0</td>\n",
       "      <td>0.0</td>\n",
       "      <td>0.0</td>\n",
       "      <td>...</td>\n",
       "      <td>0.0</td>\n",
       "      <td>0.0</td>\n",
       "      <td>0.0</td>\n",
       "      <td>1.0</td>\n",
       "      <td>0.0</td>\n",
       "      <td>0.0</td>\n",
       "      <td>0</td>\n",
       "      <td>0</td>\n",
       "      <td>0</td>\n",
       "      <td>smurf.</td>\n",
       "    </tr>\n",
       "  </tbody>\n",
       "</table>\n",
       "<p>1000000 rows × 123 columns</p>\n",
       "</div>"
      ],
      "text/plain": [
       "        Unnamed: 0  duration     src_bytes     dst_bytes  wrong_fragment  \\\n",
       "0                0       0.0  1.173944e-07  3.456654e-06             0.0   \n",
       "1                1       0.0  1.710190e-07  9.374494e-07             0.0   \n",
       "2                2       0.0  1.688450e-07  1.551219e-06             0.0   \n",
       "3                3       0.0  1.731929e-07  3.710101e-07             0.0   \n",
       "4                4       0.0  1.724683e-07  9.786727e-07             0.0   \n",
       "...            ...       ...           ...           ...             ...   \n",
       "999995      999995       0.0  7.478457e-07  0.000000e+00             0.0   \n",
       "999996      999996       0.0  7.478457e-07  0.000000e+00             0.0   \n",
       "999997      999997       0.0  7.478457e-07  0.000000e+00             0.0   \n",
       "999998      999998       0.0  7.478457e-07  0.000000e+00             0.0   \n",
       "999999      999999       0.0  7.478457e-07  0.000000e+00             0.0   \n",
       "\n",
       "        urgent  hot  num_failed_logins  num_compromised  root_shell  ...   67  \\\n",
       "0          0.0  0.0                0.0              0.0         0.0  ...  0.0   \n",
       "1          0.0  0.0                0.0              0.0         0.0  ...  0.0   \n",
       "2          0.0  0.0                0.0              0.0         0.0  ...  0.0   \n",
       "3          0.0  0.0                0.0              0.0         0.0  ...  0.0   \n",
       "4          0.0  0.0                0.0              0.0         0.0  ...  0.0   \n",
       "...        ...  ...                ...              ...         ...  ...  ...   \n",
       "999995     0.0  0.0                0.0              0.0         0.0  ...  0.0   \n",
       "999996     0.0  0.0                0.0              0.0         0.0  ...  0.0   \n",
       "999997     0.0  0.0                0.0              0.0         0.0  ...  0.0   \n",
       "999998     0.0  0.0                0.0              0.0         0.0  ...  0.0   \n",
       "999999     0.0  0.0                0.0              0.0         0.0  ...  0.0   \n",
       "\n",
       "         68   69  prot_1  prot_2  prot_3  logged_in  is_host_login  \\\n",
       "0       0.0  0.0     0.0     1.0     0.0          1              0   \n",
       "1       0.0  0.0     0.0     1.0     0.0          1              0   \n",
       "2       0.0  0.0     0.0     1.0     0.0          1              0   \n",
       "3       0.0  0.0     0.0     1.0     0.0          1              0   \n",
       "4       0.0  0.0     0.0     1.0     0.0          1              0   \n",
       "...     ...  ...     ...     ...     ...        ...            ...   \n",
       "999995  0.0  0.0     1.0     0.0     0.0          0              0   \n",
       "999996  0.0  0.0     1.0     0.0     0.0          0              0   \n",
       "999997  0.0  0.0     1.0     0.0     0.0          0              0   \n",
       "999998  0.0  0.0     1.0     0.0     0.0          0              0   \n",
       "999999  0.0  0.0     1.0     0.0     0.0          0              0   \n",
       "\n",
       "        is_guest_login     type  \n",
       "0                    0  normal.  \n",
       "1                    0  normal.  \n",
       "2                    0  normal.  \n",
       "3                    0  normal.  \n",
       "4                    0  normal.  \n",
       "...                ...      ...  \n",
       "999995               0   smurf.  \n",
       "999996               0   smurf.  \n",
       "999997               0   smurf.  \n",
       "999998               0   smurf.  \n",
       "999999               0   smurf.  \n",
       "\n",
       "[1000000 rows x 123 columns]"
      ]
     },
     "execution_count": 5,
     "metadata": {},
     "output_type": "execute_result"
    }
   ],
   "source": [
    "train"
   ]
  },
  {
   "cell_type": "code",
   "execution_count": 6,
   "id": "fad5ea4f-e667-4a68-a210-ba0211613590",
   "metadata": {},
   "outputs": [
    {
     "data": {
      "text/html": [
       "<div>\n",
       "<style scoped>\n",
       "    .dataframe tbody tr th:only-of-type {\n",
       "        vertical-align: middle;\n",
       "    }\n",
       "\n",
       "    .dataframe tbody tr th {\n",
       "        vertical-align: top;\n",
       "    }\n",
       "\n",
       "    .dataframe thead th {\n",
       "        text-align: right;\n",
       "    }\n",
       "</style>\n",
       "<table border=\"1\" class=\"dataframe\">\n",
       "  <thead>\n",
       "    <tr style=\"text-align: right;\">\n",
       "      <th></th>\n",
       "      <th>Unnamed: 0</th>\n",
       "      <th>duration</th>\n",
       "      <th>src_bytes</th>\n",
       "      <th>dst_bytes</th>\n",
       "      <th>wrong_fragment</th>\n",
       "      <th>urgent</th>\n",
       "      <th>hot</th>\n",
       "      <th>num_failed_logins</th>\n",
       "      <th>num_compromised</th>\n",
       "      <th>root_shell</th>\n",
       "      <th>...</th>\n",
       "      <th>67</th>\n",
       "      <th>68</th>\n",
       "      <th>69</th>\n",
       "      <th>prot_1</th>\n",
       "      <th>prot_2</th>\n",
       "      <th>prot_3</th>\n",
       "      <th>logged_in</th>\n",
       "      <th>is_host_login</th>\n",
       "      <th>is_guest_login</th>\n",
       "      <th>type</th>\n",
       "    </tr>\n",
       "  </thead>\n",
       "  <tbody>\n",
       "    <tr>\n",
       "      <th>0</th>\n",
       "      <td>0</td>\n",
       "      <td>0.0</td>\n",
       "      <td>0.000002</td>\n",
       "      <td>0.000028</td>\n",
       "      <td>0.0</td>\n",
       "      <td>0.0</td>\n",
       "      <td>0.0</td>\n",
       "      <td>0.0</td>\n",
       "      <td>0.0</td>\n",
       "      <td>0.0</td>\n",
       "      <td>...</td>\n",
       "      <td>0.0</td>\n",
       "      <td>0.0</td>\n",
       "      <td>0.0</td>\n",
       "      <td>0.0</td>\n",
       "      <td>0.0</td>\n",
       "      <td>1.0</td>\n",
       "      <td>0.0</td>\n",
       "      <td>0.0</td>\n",
       "      <td>0.0</td>\n",
       "      <td>normal.</td>\n",
       "    </tr>\n",
       "    <tr>\n",
       "      <th>1</th>\n",
       "      <td>1</td>\n",
       "      <td>0.0</td>\n",
       "      <td>0.000002</td>\n",
       "      <td>0.000028</td>\n",
       "      <td>0.0</td>\n",
       "      <td>0.0</td>\n",
       "      <td>0.0</td>\n",
       "      <td>0.0</td>\n",
       "      <td>0.0</td>\n",
       "      <td>0.0</td>\n",
       "      <td>...</td>\n",
       "      <td>0.0</td>\n",
       "      <td>0.0</td>\n",
       "      <td>0.0</td>\n",
       "      <td>0.0</td>\n",
       "      <td>0.0</td>\n",
       "      <td>1.0</td>\n",
       "      <td>0.0</td>\n",
       "      <td>0.0</td>\n",
       "      <td>0.0</td>\n",
       "      <td>normal.</td>\n",
       "    </tr>\n",
       "    <tr>\n",
       "      <th>2</th>\n",
       "      <td>2</td>\n",
       "      <td>0.0</td>\n",
       "      <td>0.000002</td>\n",
       "      <td>0.000028</td>\n",
       "      <td>0.0</td>\n",
       "      <td>0.0</td>\n",
       "      <td>0.0</td>\n",
       "      <td>0.0</td>\n",
       "      <td>0.0</td>\n",
       "      <td>0.0</td>\n",
       "      <td>...</td>\n",
       "      <td>0.0</td>\n",
       "      <td>0.0</td>\n",
       "      <td>0.0</td>\n",
       "      <td>0.0</td>\n",
       "      <td>0.0</td>\n",
       "      <td>1.0</td>\n",
       "      <td>0.0</td>\n",
       "      <td>0.0</td>\n",
       "      <td>0.0</td>\n",
       "      <td>snmpgetattack.</td>\n",
       "    </tr>\n",
       "    <tr>\n",
       "      <th>3</th>\n",
       "      <td>3</td>\n",
       "      <td>0.0</td>\n",
       "      <td>0.000002</td>\n",
       "      <td>0.000028</td>\n",
       "      <td>0.0</td>\n",
       "      <td>0.0</td>\n",
       "      <td>0.0</td>\n",
       "      <td>0.0</td>\n",
       "      <td>0.0</td>\n",
       "      <td>0.0</td>\n",
       "      <td>...</td>\n",
       "      <td>0.0</td>\n",
       "      <td>0.0</td>\n",
       "      <td>0.0</td>\n",
       "      <td>0.0</td>\n",
       "      <td>0.0</td>\n",
       "      <td>1.0</td>\n",
       "      <td>0.0</td>\n",
       "      <td>0.0</td>\n",
       "      <td>0.0</td>\n",
       "      <td>snmpgetattack.</td>\n",
       "    </tr>\n",
       "    <tr>\n",
       "      <th>4</th>\n",
       "      <td>4</td>\n",
       "      <td>0.0</td>\n",
       "      <td>0.000002</td>\n",
       "      <td>0.000028</td>\n",
       "      <td>0.0</td>\n",
       "      <td>0.0</td>\n",
       "      <td>0.0</td>\n",
       "      <td>0.0</td>\n",
       "      <td>0.0</td>\n",
       "      <td>0.0</td>\n",
       "      <td>...</td>\n",
       "      <td>0.0</td>\n",
       "      <td>0.0</td>\n",
       "      <td>0.0</td>\n",
       "      <td>0.0</td>\n",
       "      <td>0.0</td>\n",
       "      <td>1.0</td>\n",
       "      <td>0.0</td>\n",
       "      <td>0.0</td>\n",
       "      <td>0.0</td>\n",
       "      <td>snmpgetattack.</td>\n",
       "    </tr>\n",
       "    <tr>\n",
       "      <th>...</th>\n",
       "      <td>...</td>\n",
       "      <td>...</td>\n",
       "      <td>...</td>\n",
       "      <td>...</td>\n",
       "      <td>...</td>\n",
       "      <td>...</td>\n",
       "      <td>...</td>\n",
       "      <td>...</td>\n",
       "      <td>...</td>\n",
       "      <td>...</td>\n",
       "      <td>...</td>\n",
       "      <td>...</td>\n",
       "      <td>...</td>\n",
       "      <td>...</td>\n",
       "      <td>...</td>\n",
       "      <td>...</td>\n",
       "      <td>...</td>\n",
       "      <td>...</td>\n",
       "      <td>...</td>\n",
       "      <td>...</td>\n",
       "      <td>...</td>\n",
       "    </tr>\n",
       "    <tr>\n",
       "      <th>311023</th>\n",
       "      <td>311023</td>\n",
       "      <td>0.0</td>\n",
       "      <td>0.000002</td>\n",
       "      <td>0.000028</td>\n",
       "      <td>0.0</td>\n",
       "      <td>0.0</td>\n",
       "      <td>0.0</td>\n",
       "      <td>0.0</td>\n",
       "      <td>0.0</td>\n",
       "      <td>0.0</td>\n",
       "      <td>...</td>\n",
       "      <td>0.0</td>\n",
       "      <td>0.0</td>\n",
       "      <td>0.0</td>\n",
       "      <td>0.0</td>\n",
       "      <td>0.0</td>\n",
       "      <td>1.0</td>\n",
       "      <td>0.0</td>\n",
       "      <td>0.0</td>\n",
       "      <td>0.0</td>\n",
       "      <td>normal.</td>\n",
       "    </tr>\n",
       "    <tr>\n",
       "      <th>311024</th>\n",
       "      <td>311024</td>\n",
       "      <td>0.0</td>\n",
       "      <td>0.000002</td>\n",
       "      <td>0.000028</td>\n",
       "      <td>0.0</td>\n",
       "      <td>0.0</td>\n",
       "      <td>0.0</td>\n",
       "      <td>0.0</td>\n",
       "      <td>0.0</td>\n",
       "      <td>0.0</td>\n",
       "      <td>...</td>\n",
       "      <td>0.0</td>\n",
       "      <td>0.0</td>\n",
       "      <td>0.0</td>\n",
       "      <td>0.0</td>\n",
       "      <td>0.0</td>\n",
       "      <td>1.0</td>\n",
       "      <td>0.0</td>\n",
       "      <td>0.0</td>\n",
       "      <td>0.0</td>\n",
       "      <td>normal.</td>\n",
       "    </tr>\n",
       "    <tr>\n",
       "      <th>311025</th>\n",
       "      <td>311025</td>\n",
       "      <td>0.0</td>\n",
       "      <td>0.000002</td>\n",
       "      <td>0.000028</td>\n",
       "      <td>0.0</td>\n",
       "      <td>0.0</td>\n",
       "      <td>0.0</td>\n",
       "      <td>0.0</td>\n",
       "      <td>0.0</td>\n",
       "      <td>0.0</td>\n",
       "      <td>...</td>\n",
       "      <td>0.0</td>\n",
       "      <td>0.0</td>\n",
       "      <td>0.0</td>\n",
       "      <td>0.0</td>\n",
       "      <td>0.0</td>\n",
       "      <td>1.0</td>\n",
       "      <td>0.0</td>\n",
       "      <td>0.0</td>\n",
       "      <td>0.0</td>\n",
       "      <td>normal.</td>\n",
       "    </tr>\n",
       "    <tr>\n",
       "      <th>311026</th>\n",
       "      <td>311026</td>\n",
       "      <td>NaN</td>\n",
       "      <td>NaN</td>\n",
       "      <td>NaN</td>\n",
       "      <td>NaN</td>\n",
       "      <td>NaN</td>\n",
       "      <td>NaN</td>\n",
       "      <td>NaN</td>\n",
       "      <td>NaN</td>\n",
       "      <td>NaN</td>\n",
       "      <td>...</td>\n",
       "      <td>NaN</td>\n",
       "      <td>NaN</td>\n",
       "      <td>NaN</td>\n",
       "      <td>0.0</td>\n",
       "      <td>0.0</td>\n",
       "      <td>1.0</td>\n",
       "      <td>0.0</td>\n",
       "      <td>0.0</td>\n",
       "      <td>0.0</td>\n",
       "      <td>normal.</td>\n",
       "    </tr>\n",
       "    <tr>\n",
       "      <th>311027</th>\n",
       "      <td>311027</td>\n",
       "      <td>NaN</td>\n",
       "      <td>NaN</td>\n",
       "      <td>NaN</td>\n",
       "      <td>NaN</td>\n",
       "      <td>NaN</td>\n",
       "      <td>NaN</td>\n",
       "      <td>NaN</td>\n",
       "      <td>NaN</td>\n",
       "      <td>NaN</td>\n",
       "      <td>...</td>\n",
       "      <td>NaN</td>\n",
       "      <td>NaN</td>\n",
       "      <td>NaN</td>\n",
       "      <td>0.0</td>\n",
       "      <td>0.0</td>\n",
       "      <td>1.0</td>\n",
       "      <td>0.0</td>\n",
       "      <td>0.0</td>\n",
       "      <td>0.0</td>\n",
       "      <td>normal.</td>\n",
       "    </tr>\n",
       "  </tbody>\n",
       "</table>\n",
       "<p>311028 rows × 123 columns</p>\n",
       "</div>"
      ],
      "text/plain": [
       "        Unnamed: 0  duration  src_bytes  dst_bytes  wrong_fragment  urgent  \\\n",
       "0                0       0.0   0.000002   0.000028             0.0     0.0   \n",
       "1                1       0.0   0.000002   0.000028             0.0     0.0   \n",
       "2                2       0.0   0.000002   0.000028             0.0     0.0   \n",
       "3                3       0.0   0.000002   0.000028             0.0     0.0   \n",
       "4                4       0.0   0.000002   0.000028             0.0     0.0   \n",
       "...            ...       ...        ...        ...             ...     ...   \n",
       "311023      311023       0.0   0.000002   0.000028             0.0     0.0   \n",
       "311024      311024       0.0   0.000002   0.000028             0.0     0.0   \n",
       "311025      311025       0.0   0.000002   0.000028             0.0     0.0   \n",
       "311026      311026       NaN        NaN        NaN             NaN     NaN   \n",
       "311027      311027       NaN        NaN        NaN             NaN     NaN   \n",
       "\n",
       "        hot  num_failed_logins  num_compromised  root_shell  ...   67   68  \\\n",
       "0       0.0                0.0              0.0         0.0  ...  0.0  0.0   \n",
       "1       0.0                0.0              0.0         0.0  ...  0.0  0.0   \n",
       "2       0.0                0.0              0.0         0.0  ...  0.0  0.0   \n",
       "3       0.0                0.0              0.0         0.0  ...  0.0  0.0   \n",
       "4       0.0                0.0              0.0         0.0  ...  0.0  0.0   \n",
       "...     ...                ...              ...         ...  ...  ...  ...   \n",
       "311023  0.0                0.0              0.0         0.0  ...  0.0  0.0   \n",
       "311024  0.0                0.0              0.0         0.0  ...  0.0  0.0   \n",
       "311025  0.0                0.0              0.0         0.0  ...  0.0  0.0   \n",
       "311026  NaN                NaN              NaN         NaN  ...  NaN  NaN   \n",
       "311027  NaN                NaN              NaN         NaN  ...  NaN  NaN   \n",
       "\n",
       "         69  prot_1  prot_2  prot_3  logged_in  is_host_login  is_guest_login  \\\n",
       "0       0.0     0.0     0.0     1.0        0.0            0.0             0.0   \n",
       "1       0.0     0.0     0.0     1.0        0.0            0.0             0.0   \n",
       "2       0.0     0.0     0.0     1.0        0.0            0.0             0.0   \n",
       "3       0.0     0.0     0.0     1.0        0.0            0.0             0.0   \n",
       "4       0.0     0.0     0.0     1.0        0.0            0.0             0.0   \n",
       "...     ...     ...     ...     ...        ...            ...             ...   \n",
       "311023  0.0     0.0     0.0     1.0        0.0            0.0             0.0   \n",
       "311024  0.0     0.0     0.0     1.0        0.0            0.0             0.0   \n",
       "311025  0.0     0.0     0.0     1.0        0.0            0.0             0.0   \n",
       "311026  NaN     0.0     0.0     1.0        0.0            0.0             0.0   \n",
       "311027  NaN     0.0     0.0     1.0        0.0            0.0             0.0   \n",
       "\n",
       "                  type  \n",
       "0              normal.  \n",
       "1              normal.  \n",
       "2       snmpgetattack.  \n",
       "3       snmpgetattack.  \n",
       "4       snmpgetattack.  \n",
       "...                ...  \n",
       "311023         normal.  \n",
       "311024         normal.  \n",
       "311025         normal.  \n",
       "311026         normal.  \n",
       "311027         normal.  \n",
       "\n",
       "[311028 rows x 123 columns]"
      ]
     },
     "execution_count": 6,
     "metadata": {},
     "output_type": "execute_result"
    }
   ],
   "source": [
    "test"
   ]
  },
  {
   "cell_type": "code",
   "execution_count": 7,
   "id": "d29636ee-b8bc-4937-bc39-cbedebe4e278",
   "metadata": {},
   "outputs": [],
   "source": [
    "train.drop('Unnamed: 0', axis=1, inplace=True)\n",
    "test.drop('Unnamed: 0', axis=1, inplace=True)"
   ]
  },
  {
   "cell_type": "code",
   "execution_count": 8,
   "id": "6b0ef898-6be8-4cdd-88c5-db848be5737c",
   "metadata": {},
   "outputs": [],
   "source": [
    "train = train.drop_duplicates()\n",
    "test = test.drop_duplicates()\n",
    "train = train.dropna()\n",
    "test = test.dropna()"
   ]
  },
  {
   "cell_type": "code",
   "execution_count": 9,
   "id": "11ecb316-27cd-4dc3-bdc6-16b4401e5a24",
   "metadata": {},
   "outputs": [
    {
     "data": {
      "text/plain": [
       "(582542, 122)"
      ]
     },
     "execution_count": 9,
     "metadata": {},
     "output_type": "execute_result"
    }
   ],
   "source": [
    "train.shape"
   ]
  },
  {
   "cell_type": "code",
   "execution_count": 10,
   "id": "49e3554e-8ae7-49ef-a2dd-b1a8d2a445ea",
   "metadata": {},
   "outputs": [
    {
     "data": {
      "text/plain": [
       "(78832, 122)"
      ]
     },
     "execution_count": 10,
     "metadata": {},
     "output_type": "execute_result"
    }
   ],
   "source": [
    "test.shape"
   ]
  },
  {
   "cell_type": "code",
   "execution_count": 11,
   "id": "b8251569-21a1-4f4f-b05b-70cf6f24d301",
   "metadata": {},
   "outputs": [],
   "source": [
    "X_test = test.drop(\"type\",axis = 1)\n",
    "y_test = test[\"type\"]\n",
    "X_train = train.drop(\"type\",axis = 1)\n",
    "y_train = train[\"type\"]"
   ]
  },
  {
   "cell_type": "code",
   "execution_count": 12,
   "id": "31ee6c86-073c-4bc4-ba26-16d1d0e9cc8a",
   "metadata": {},
   "outputs": [],
   "source": [
    "y_test = y_test.apply(lambda x: x == \"normal.\")\n",
    "y_train = y_train.apply(lambda x: x == \"normal.\")"
   ]
  },
  {
   "cell_type": "code",
   "execution_count": 13,
   "id": "ae2799ad-fdda-4fa6-8dcc-83d75b53d0a5",
   "metadata": {},
   "outputs": [
    {
     "name": "stdout",
     "output_type": "stream",
     "text": [
      "46339 / 78832\n"
     ]
    }
   ],
   "source": [
    "print(str(sum(y_test)) + \" / \" + str(len(y_test)))"
   ]
  },
  {
   "cell_type": "code",
   "execution_count": 14,
   "id": "278aa42d-96e8-44b5-bd33-0edc9e0dff66",
   "metadata": {},
   "outputs": [
    {
     "name": "stdout",
     "output_type": "stream",
     "text": [
      "527372 / 582542\n"
     ]
    }
   ],
   "source": [
    "print(str(sum(y_train)) + \" / \" + str(len(y_train)))"
   ]
  },
  {
   "cell_type": "markdown",
   "id": "dc3fc29f-fa39-45f4-9ec4-ba40dfbc7244",
   "metadata": {
    "tags": []
   },
   "source": [
    "## train"
   ]
  },
  {
   "cell_type": "code",
   "execution_count": 15,
   "id": "514bd3df-36df-4089-b1b8-97d6c69c7482",
   "metadata": {},
   "outputs": [],
   "source": [
    "@timing\n",
    "def train_model(model,X_train, y_train):\n",
    "    model.fit(X_train, y_train)\n",
    "    return model"
   ]
  },
  {
   "cell_type": "code",
   "execution_count": 16,
   "id": "29fb85d3-da74-476a-a80d-84762eec667d",
   "metadata": {},
   "outputs": [],
   "source": [
    "@timing\n",
    "def run_model(model, X_test, y_test):\n",
    "    y_pred = model.predict(X_test)\n",
    "    return y_pred   "
   ]
  },
  {
   "cell_type": "code",
   "execution_count": 17,
   "id": "748b92d2-11ee-4ed8-886f-4805add0fe2f",
   "metadata": {},
   "outputs": [],
   "source": [
    "from sklearn.metrics import precision_score\n",
    "from sklearn.metrics import recall_score\n",
    "from sklearn.metrics import roc_auc_score\n",
    "from sklearn.metrics import f1_score\n",
    "def eval_model(y_test,y_pred):\n",
    "    pres = precision_score(y_test, y_pred)\n",
    "    rec = recall_score(y_test, y_pred)\n",
    "    roc = roc_auc_score(y_test, y_pred)\n",
    "    f1 = f1_score(y_test, y_pred)\n",
    "    return pres,rec, roc, f1"
   ]
  },
  {
   "cell_type": "code",
   "execution_count": null,
   "id": "3bb5ce38-5942-4318-9ae0-fd2759f5af9b",
   "metadata": {},
   "outputs": [],
   "source": [
    "{'learning_rate': 0.01,\n",
    " 'max_depth': 12,\n",
    " 'max_iter': 400,\n",
    " 'max_leaf_nodes': 127,\n",
    " 'min_samples_leaf': 20}"
   ]
  },
  {
   "cell_type": "code",
   "execution_count": 23,
   "id": "06b4bb01-08f9-4d61-a90d-7c436de993a6",
   "metadata": {},
   "outputs": [
    {
     "name": "stdout",
     "output_type": "stream",
     "text": [
      "train_model function took 37547.347 ms\n"
     ]
    }
   ],
   "source": [
    "from sklearn.ensemble import HistGradientBoostingClassifier\n",
    "model = HistGradientBoostingClassifier(learning_rate = 0.01, max_depth = 12, max_iter = 400, max_leaf_nodes =  127, min_samples_leaf = 20)\n",
    "model = train_model(model,X_train,y_train)"
   ]
  },
  {
   "cell_type": "code",
   "execution_count": 27,
   "id": "074cd0ab-0f69-4983-81bd-0ecf31f4ac3e",
   "metadata": {},
   "outputs": [],
   "source": [
    "y_pred = np.ones(len(X_test))"
   ]
  },
  {
   "cell_type": "code",
   "execution_count": 25,
   "id": "bdd12df8-fa19-4e25-8be7-ff66dd11a555",
   "metadata": {},
   "outputs": [
    {
     "name": "stdout",
     "output_type": "stream",
     "text": [
      "run_model function took 307.689 ms\n"
     ]
    }
   ],
   "source": [
    "y_pred = run_model(model, X_test, y_test)"
   ]
  },
  {
   "cell_type": "code",
   "execution_count": 28,
   "id": "e064d65e-d961-4fc4-b30f-cb9e0d916adf",
   "metadata": {},
   "outputs": [
    {
     "data": {
      "text/plain": [
       "(0.5878196671402476, 1.0, 0.5, 0.7404111175911353)"
      ]
     },
     "execution_count": 28,
     "metadata": {},
     "output_type": "execute_result"
    }
   ],
   "source": [
    "eval_model(y_test,y_pred)"
   ]
  },
  {
   "cell_type": "code",
   "execution_count": 21,
   "id": "592264d9-879b-49c6-b682-518582c9bb86",
   "metadata": {},
   "outputs": [
    {
     "name": "stdout",
     "output_type": "stream",
     "text": [
      "train_model function took 68185.111 ms\n"
     ]
    }
   ],
   "source": [
    "from sklearn.ensemble import BaggingClassifier\n",
    "model = BaggingClassifier(n_estimators=150, random_state=0,n_jobs = -1)\n",
    "model = train_model(model,X_train,y_train)"
   ]
  },
  {
   "cell_type": "code",
   "execution_count": 22,
   "id": "e457cea5-8543-4c10-8ffb-e73618b3585f",
   "metadata": {},
   "outputs": [
    {
     "name": "stdout",
     "output_type": "stream",
     "text": [
      "run_model function took 1123.575 ms\n"
     ]
    }
   ],
   "source": [
    "y_pred = run_model(model, X_test, y_test)"
   ]
  },
  {
   "cell_type": "code",
   "execution_count": 23,
   "id": "9a2995e7-3029-464e-a0e6-dbe7dc1e04ad",
   "metadata": {},
   "outputs": [
    {
     "data": {
      "text/plain": [
       "(0.8507557736612411,\n",
       " 0.9801894732298927,\n",
       " 0.8674837127021037,\n",
       " 0.9108976415851114)"
      ]
     },
     "execution_count": 23,
     "metadata": {},
     "output_type": "execute_result"
    }
   ],
   "source": [
    "eval_model(y_test,y_pred)"
   ]
  },
  {
   "cell_type": "code",
   "execution_count": 24,
   "id": "f005316f-0f12-4583-80ca-90950a96fa86",
   "metadata": {},
   "outputs": [
    {
     "name": "stdout",
     "output_type": "stream",
     "text": [
      "train_model function took 8523.475 ms\n"
     ]
    }
   ],
   "source": [
    "from sklearn.ensemble import RandomForestClassifier\n",
    "model = RandomForestClassifier(n_estimators = 150, random_state=0,n_jobs = -1)\n",
    "model = train_model(model,X_train,y_train)"
   ]
  },
  {
   "cell_type": "code",
   "execution_count": 25,
   "id": "732ee50e-4935-49fc-929c-33f454ed76c5",
   "metadata": {},
   "outputs": [
    {
     "name": "stdout",
     "output_type": "stream",
     "text": [
      "run_model function took 189.984 ms\n"
     ]
    }
   ],
   "source": [
    "y_pred = run_model(model, X_test, y_test)"
   ]
  },
  {
   "cell_type": "code",
   "execution_count": 26,
   "id": "57e5b1c4-4c32-47ef-8d76-bac484a32605",
   "metadata": {},
   "outputs": [
    {
     "data": {
      "text/plain": [
       "(0.844900783631637, 0.9749023500722933, 0.8598390739682243, 0.9052580955434433)"
      ]
     },
     "execution_count": 26,
     "metadata": {},
     "output_type": "execute_result"
    }
   ],
   "source": [
    "eval_model(y_test,y_pred)"
   ]
  },
  {
   "cell_type": "code",
   "execution_count": 36,
   "id": "b48495e2-395b-47f0-92b2-59e3bee5a9be",
   "metadata": {},
   "outputs": [
    {
     "name": "stdout",
     "output_type": "stream",
     "text": [
      "train_model function took 8942.733 ms\n"
     ]
    }
   ],
   "source": [
    "from xgboost import XGBClassifier\n",
    "model = XGBClassifier(colsample_bytree = 0.3,gamma = 0.1, learning_rate = 0.05, max_depth = 4, min_child_weight = 1, use_label_encoder=False, eval_metric='mlogloss')\n",
    "model = train_model(model,X_train,y_train)"
   ]
  },
  {
   "cell_type": "code",
   "execution_count": 37,
   "id": "3fdbd23c-3d79-484f-9a54-95734ef4bb12",
   "metadata": {},
   "outputs": [
    {
     "name": "stdout",
     "output_type": "stream",
     "text": [
      "run_model function took 38.594 ms\n"
     ]
    }
   ],
   "source": [
    "y_pred = run_model(model, X_test, y_test)"
   ]
  },
  {
   "cell_type": "code",
   "execution_count": 38,
   "id": "b326a2fb-6fb4-41a2-b943-70dc21048983",
   "metadata": {},
   "outputs": [
    {
     "data": {
      "text/plain": [
       "(0.8281896567438978,\n",
       " 0.9804268542696217,\n",
       " 0.8451821896375038,\n",
       " 0.8979011028103878)"
      ]
     },
     "execution_count": 38,
     "metadata": {},
     "output_type": "execute_result"
    }
   ],
   "source": [
    "eval_model(y_test,y_pred)"
   ]
  },
  {
   "cell_type": "code",
   "execution_count": 35,
   "id": "07ae9457-87c3-4548-a020-2391ddcaf502",
   "metadata": {},
   "outputs": [
    {
     "name": "stdout",
     "output_type": "stream",
     "text": [
      "train_model function took 212428.250 ms\n"
     ]
    }
   ],
   "source": [
    "from sklearn.neural_network import MLPClassifier\n",
    "model = MLPClassifier(random_state=1, max_iter=200)\n",
    "model = train_model(model,X_train.head(1000000),y_train.head(1000000))"
   ]
  },
  {
   "cell_type": "code",
   "execution_count": 36,
   "id": "2ae04a00-b5b6-4e2d-8f4a-e1174b6b7679",
   "metadata": {},
   "outputs": [
    {
     "name": "stdout",
     "output_type": "stream",
     "text": [
      "run_model function took 333.494 ms\n"
     ]
    }
   ],
   "source": [
    "y_pred = run_model(model, X_test, y_test)"
   ]
  },
  {
   "cell_type": "code",
   "execution_count": 37,
   "id": "0936881f-b715-46c4-b6ee-8d791b252140",
   "metadata": {},
   "outputs": [
    {
     "data": {
      "text/plain": [
       "(0.8643534319302237,\n",
       " 0.9837501888258271,\n",
       " 0.8817898452823316,\n",
       " 0.9201949959123528)"
      ]
     },
     "execution_count": 37,
     "metadata": {},
     "output_type": "execute_result"
    }
   ],
   "source": [
    "eval_model(y_test,y_pred)"
   ]
  },
  {
   "cell_type": "code",
   "execution_count": 32,
   "id": "6b766246-9ad1-44af-84f0-ea364393ecee",
   "metadata": {},
   "outputs": [
    {
     "name": "stdout",
     "output_type": "stream",
     "text": [
      "train_model function took 44595.746 ms\n"
     ]
    },
    {
     "name": "stderr",
     "output_type": "stream",
     "text": [
      "/opt/lhm/tljh/user/lib/python3.7/site-packages/sklearn/svm/_base.py:289: ConvergenceWarning: Solver terminated early (max_iter=200).  Consider pre-processing your data with StandardScaler or MinMaxScaler.\n",
      "  ConvergenceWarning,\n"
     ]
    }
   ],
   "source": [
    "from sklearn.svm import SVC\n",
    "model = SVC(random_state=1, max_iter=200)\n",
    "model = train_model(model,X_train.head(1000000),y_train.head(1000000))"
   ]
  },
  {
   "cell_type": "code",
   "execution_count": 33,
   "id": "9bc5e530-55a1-47d8-af74-7922db425202",
   "metadata": {},
   "outputs": [
    {
     "name": "stdout",
     "output_type": "stream",
     "text": [
      "run_model function took 5331.845 ms\n"
     ]
    }
   ],
   "source": [
    "y_pred = run_model(model, X_test, y_test)"
   ]
  },
  {
   "cell_type": "code",
   "execution_count": 34,
   "id": "05cd40b4-14c4-4116-b371-78aef43dcf76",
   "metadata": {},
   "outputs": [
    {
     "data": {
      "text/plain": [
       "(0.8533170456681075,\n",
       " 0.9798441917175598,\n",
       " 0.8698193044883309,\n",
       " 0.9122140855257211)"
      ]
     },
     "execution_count": 34,
     "metadata": {},
     "output_type": "execute_result"
    }
   ],
   "source": [
    "eval_model(y_test,y_pred)"
   ]
  },
  {
   "cell_type": "code",
   "execution_count": 40,
   "id": "354691e4-b3bc-4bb2-b48c-48049c8a91b8",
   "metadata": {},
   "outputs": [
    {
     "name": "stdout",
     "output_type": "stream",
     "text": [
      "train_model function took 335667.375 ms\n"
     ]
    },
    {
     "name": "stderr",
     "output_type": "stream",
     "text": [
      "/opt/lhm/tljh/user/lib/python3.7/site-packages/sklearn/svm/_base.py:289: ConvergenceWarning: Solver terminated early (max_iter=200).  Consider pre-processing your data with StandardScaler or MinMaxScaler.\n",
      "  ConvergenceWarning,\n"
     ]
    }
   ],
   "source": [
    "from sklearn.ensemble import VotingClassifier\n",
    "estimators=[(\"bag\", BaggingClassifier(n_estimators=150, random_state=0,n_jobs = -1)), (\"mlp\",MLPClassifier(random_state=1, max_iter=200)),(\"SVC\",SVC(random_state=1, max_iter=200))]\n",
    "model = VotingClassifier(estimators, voting=\"soft\")\n",
    "model = train_model(model,X_train.head(1000000),y_train.head(1000000))"
   ]
  },
  {
   "cell_type": "code",
   "execution_count": null,
   "id": "e8f7de9d-f2e6-4837-b082-c6b60b2e6f22",
   "metadata": {},
   "outputs": [],
   "source": [
    "y_pred = run_model(model, X_test, y_test)"
   ]
  },
  {
   "cell_type": "code",
   "execution_count": null,
   "id": "f8f34944-3f2c-425b-9462-7a215f361aa4",
   "metadata": {},
   "outputs": [],
   "source": [
    "eval_model(y_test,y_pred)"
   ]
  },
  {
   "cell_type": "code",
   "execution_count": 42,
   "id": "cb72dd11-4e6c-4843-abcb-7a8d7d1bd855",
   "metadata": {},
   "outputs": [
    {
     "name": "stdout",
     "output_type": "stream",
     "text": [
      "train_model function took 318993.572 ms\n"
     ]
    },
    {
     "name": "stderr",
     "output_type": "stream",
     "text": [
      "/opt/lhm/tljh/user/lib/python3.7/site-packages/sklearn/svm/_base.py:289: ConvergenceWarning: Solver terminated early (max_iter=200).  Consider pre-processing your data with StandardScaler or MinMaxScaler.\n",
      "  ConvergenceWarning,\n"
     ]
    }
   ],
   "source": [
    "from sklearn.ensemble import VotingClassifier\n",
    "estimators=[(\"bag\", BaggingClassifier(n_estimators=150, random_state=0,n_jobs = -1)), (\"mlp\",MLPClassifier(random_state=1, max_iter=200)),(\"SVC\",SVC(random_state=1, max_iter=200))]\n",
    "model = VotingClassifier(estimators, voting=\"hard\")\n",
    "model = train_model(model,X_train.head(1000000),y_train.head(1000000))"
   ]
  },
  {
   "cell_type": "code",
   "execution_count": 43,
   "id": "7a27b65c-0721-4a3e-8110-52f62b4c4cb5",
   "metadata": {},
   "outputs": [
    {
     "name": "stdout",
     "output_type": "stream",
     "text": [
      "run_model function took 8068.361 ms\n"
     ]
    }
   ],
   "source": [
    "y_pred = run_model(model, X_test, y_test)"
   ]
  },
  {
   "cell_type": "code",
   "execution_count": 44,
   "id": "2969ac01-5cf8-40df-9f0a-bd8e48b47af1",
   "metadata": {},
   "outputs": [
    {
     "data": {
      "text/plain": [
       "(0.859332156406115, 0.9874188048943654, 0.8784538089347338, 0.918933574333484)"
      ]
     },
     "execution_count": 44,
     "metadata": {},
     "output_type": "execute_result"
    }
   ],
   "source": [
    "eval_model(y_test,y_pred)"
   ]
  },
  {
   "cell_type": "markdown",
   "id": "6b6b945f-5f73-4a58-a51d-a6036d9c707b",
   "metadata": {},
   "source": [
    "## opti"
   ]
  },
  {
   "cell_type": "code",
   "execution_count": 19,
   "id": "ebbe07ea-7e50-480e-bb5e-014d68d6bf1f",
   "metadata": {},
   "outputs": [],
   "source": [
    "param_grid = {\"learning_rate\"    : [0.05, 0.10,  0.20,  0.30 ] ,\n",
    " \"max_depth\"        : [ 3, 4,  6, 8,  12],\n",
    " \"min_child_weight\" : [ 1, 3, 5, 7 ],\n",
    " \"gamma\"            : [ 0.0, 0.1,0.3, 0.4 ],\n",
    " \"colsample_bytree\" : [ 0.3,  0.5 , 0.7 ] }"
   ]
  },
  {
   "cell_type": "code",
   "execution_count": 20,
   "id": "5642d5c5-29a6-46ce-b1d6-35062e48fbd4",
   "metadata": {},
   "outputs": [],
   "source": [
    "param_grid = {\"learning_rate\"    : [0.05,0.01,0.5, 0.10,  0.20 ] ,\n",
    " \"max_depth\"        : [  4,   8,  12,20,50],\n",
    " \"max_iter\" : [200, 300, 400,600,800 ],\n",
    " \"max_leaf_nodes\"            : [ 63, 127 ],\n",
    " \"min_samples_leaf\" : [ 20,  50 ,70 ] }"
   ]
  },
  {
   "cell_type": "code",
   "execution_count": 20,
   "id": "b59f792c-5cc7-4425-b3bf-e7ebcd9a4cc4",
   "metadata": {},
   "outputs": [],
   "source": [
    "from xgboost import XGBClassifier\n",
    "model = XGBClassifier(use_label_encoder=False, eval_metric='mlogloss')"
   ]
  },
  {
   "cell_type": "code",
   "execution_count": 18,
   "id": "e53bf538-bf49-49ce-8238-f121e577a460",
   "metadata": {},
   "outputs": [],
   "source": [
    "from sklearn.ensemble import HistGradientBoostingClassifier\n",
    "model = HistGradientBoostingClassifier(learning_rate = 0.08, max_depth = 50, max_iter = 300, max_leaf_nodes =  127, min_samples_leaf = 50)"
   ]
  },
  {
   "cell_type": "code",
   "execution_count": 22,
   "id": "bd0c7634-b785-4bb7-921a-117458341b1e",
   "metadata": {},
   "outputs": [
    {
     "data": {
      "text/plain": [
       "{'learning_rate': 0.01,\n",
       " 'max_depth': 12,\n",
       " 'max_iter': 400,\n",
       " 'max_leaf_nodes': 127,\n",
       " 'min_samples_leaf': 20}"
      ]
     },
     "execution_count": 22,
     "metadata": {},
     "output_type": "execute_result"
    }
   ],
   "source": [
    "from sklearn.experimental import enable_halving_search_cv\n",
    "from sklearn.model_selection import HalvingGridSearchCV\n",
    "\n",
    "\n",
    "search = HalvingGridSearchCV(model, param_grid, \n",
    "                             max_resources=500,\n",
    "                             random_state=0).fit(X_train, y_train)\n",
    "search.best_params_"
   ]
  },
  {
   "cell_type": "code",
   "execution_count": null,
   "id": "2a3fe0ca-2941-4bbb-b2d0-579df8a493d6",
   "metadata": {},
   "outputs": [],
   "source": []
  }
 ],
 "metadata": {
  "kernelspec": {
   "display_name": "Python 3 (ipykernel)",
   "language": "python",
   "name": "python3"
  },
  "language_info": {
   "codemirror_mode": {
    "name": "ipython",
    "version": 3
   },
   "file_extension": ".py",
   "mimetype": "text/x-python",
   "name": "python",
   "nbconvert_exporter": "python",
   "pygments_lexer": "ipython3",
   "version": "3.9.7"
  }
 },
 "nbformat": 4,
 "nbformat_minor": 5
}
