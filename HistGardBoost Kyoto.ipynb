{
 "cells": [
  {
   "cell_type": "code",
   "execution_count": 2,
   "id": "05400100",
   "metadata": {},
   "outputs": [],
   "source": [
    "import pandas as pd \n",
    "import numpy as np\n",
    "from sklearn.ensemble import RandomForestClassifier\n",
    "import sklearn"
   ]
  },
  {
   "cell_type": "markdown",
   "id": "61233a50-e257-4d71-893d-6cf1764d8621",
   "metadata": {},
   "source": [
    "## load data and drop small targets "
   ]
  },
  {
   "cell_type": "code",
   "execution_count": 6,
   "id": "b11fae84",
   "metadata": {},
   "outputs": [
    {
     "data": {
      "text/html": [
       "<div>\n",
       "<style scoped>\n",
       "    .dataframe tbody tr th:only-of-type {\n",
       "        vertical-align: middle;\n",
       "    }\n",
       "\n",
       "    .dataframe tbody tr th {\n",
       "        vertical-align: top;\n",
       "    }\n",
       "\n",
       "    .dataframe thead th {\n",
       "        text-align: right;\n",
       "    }\n",
       "</style>\n",
       "<table border=\"1\" class=\"dataframe\">\n",
       "  <thead>\n",
       "    <tr style=\"text-align: right;\">\n",
       "      <th></th>\n",
       "      <th>Duration</th>\n",
       "      <th>Source bytes</th>\n",
       "      <th>Destination bytes</th>\n",
       "      <th>Count</th>\n",
       "      <th>Same srv rate</th>\n",
       "      <th>Serror rate</th>\n",
       "      <th>Srv serror rate</th>\n",
       "      <th>Dst host count</th>\n",
       "      <th>Dst host srv count</th>\n",
       "      <th>Dst host same src port rate</th>\n",
       "      <th>Dst host serror rate</th>\n",
       "      <th>Dst host srv serror rate</th>\n",
       "      <th>0</th>\n",
       "      <th>0.1</th>\n",
       "      <th>0.2</th>\n",
       "      <th>Label</th>\n",
       "    </tr>\n",
       "  </thead>\n",
       "  <tbody>\n",
       "    <tr>\n",
       "      <th>0</th>\n",
       "      <td>0.000000</td>\n",
       "      <td>0.000000e+00</td>\n",
       "      <td>0.0</td>\n",
       "      <td>0.0</td>\n",
       "      <td>0.0</td>\n",
       "      <td>0.0</td>\n",
       "      <td>0.0</td>\n",
       "      <td>0.0</td>\n",
       "      <td>0.0</td>\n",
       "      <td>0.0</td>\n",
       "      <td>0.0</td>\n",
       "      <td>0.0</td>\n",
       "      <td>6</td>\n",
       "      <td>1</td>\n",
       "      <td>3</td>\n",
       "      <td>0</td>\n",
       "    </tr>\n",
       "    <tr>\n",
       "      <th>1</th>\n",
       "      <td>0.000000</td>\n",
       "      <td>0.000000e+00</td>\n",
       "      <td>0.0</td>\n",
       "      <td>0.0</td>\n",
       "      <td>0.0</td>\n",
       "      <td>0.0</td>\n",
       "      <td>0.0</td>\n",
       "      <td>0.0</td>\n",
       "      <td>0.0</td>\n",
       "      <td>0.0</td>\n",
       "      <td>0.0</td>\n",
       "      <td>0.0</td>\n",
       "      <td>6</td>\n",
       "      <td>1</td>\n",
       "      <td>3</td>\n",
       "      <td>0</td>\n",
       "    </tr>\n",
       "    <tr>\n",
       "      <th>2</th>\n",
       "      <td>0.000000</td>\n",
       "      <td>0.000000e+00</td>\n",
       "      <td>0.0</td>\n",
       "      <td>0.0</td>\n",
       "      <td>0.0</td>\n",
       "      <td>0.0</td>\n",
       "      <td>0.0</td>\n",
       "      <td>0.0</td>\n",
       "      <td>0.0</td>\n",
       "      <td>0.0</td>\n",
       "      <td>0.0</td>\n",
       "      <td>0.0</td>\n",
       "      <td>6</td>\n",
       "      <td>1</td>\n",
       "      <td>3</td>\n",
       "      <td>0</td>\n",
       "    </tr>\n",
       "    <tr>\n",
       "      <th>3</th>\n",
       "      <td>0.000000</td>\n",
       "      <td>0.000000e+00</td>\n",
       "      <td>0.0</td>\n",
       "      <td>0.0</td>\n",
       "      <td>0.0</td>\n",
       "      <td>0.0</td>\n",
       "      <td>0.0</td>\n",
       "      <td>0.0</td>\n",
       "      <td>0.0</td>\n",
       "      <td>0.0</td>\n",
       "      <td>0.0</td>\n",
       "      <td>0.0</td>\n",
       "      <td>6</td>\n",
       "      <td>1</td>\n",
       "      <td>3</td>\n",
       "      <td>0</td>\n",
       "    </tr>\n",
       "    <tr>\n",
       "      <th>4</th>\n",
       "      <td>0.000345</td>\n",
       "      <td>1.970562e-08</td>\n",
       "      <td>0.0</td>\n",
       "      <td>0.0</td>\n",
       "      <td>0.0</td>\n",
       "      <td>0.0</td>\n",
       "      <td>0.0</td>\n",
       "      <td>0.0</td>\n",
       "      <td>0.0</td>\n",
       "      <td>0.0</td>\n",
       "      <td>0.0</td>\n",
       "      <td>0.0</td>\n",
       "      <td>6</td>\n",
       "      <td>2</td>\n",
       "      <td>3</td>\n",
       "      <td>0</td>\n",
       "    </tr>\n",
       "  </tbody>\n",
       "</table>\n",
       "</div>"
      ],
      "text/plain": [
       "   Duration  Source bytes  Destination bytes  Count  Same srv rate  \\\n",
       "0  0.000000  0.000000e+00                0.0    0.0            0.0   \n",
       "1  0.000000  0.000000e+00                0.0    0.0            0.0   \n",
       "2  0.000000  0.000000e+00                0.0    0.0            0.0   \n",
       "3  0.000000  0.000000e+00                0.0    0.0            0.0   \n",
       "4  0.000345  1.970562e-08                0.0    0.0            0.0   \n",
       "\n",
       "   Serror rate  Srv serror rate  Dst host count  Dst host srv count  \\\n",
       "0          0.0              0.0             0.0                 0.0   \n",
       "1          0.0              0.0             0.0                 0.0   \n",
       "2          0.0              0.0             0.0                 0.0   \n",
       "3          0.0              0.0             0.0                 0.0   \n",
       "4          0.0              0.0             0.0                 0.0   \n",
       "\n",
       "   Dst host same src port rate  Dst host serror rate  \\\n",
       "0                          0.0                   0.0   \n",
       "1                          0.0                   0.0   \n",
       "2                          0.0                   0.0   \n",
       "3                          0.0                   0.0   \n",
       "4                          0.0                   0.0   \n",
       "\n",
       "   Dst host srv serror rate  0  0.1  0.2  Label  \n",
       "0                       0.0  6    1    3      0  \n",
       "1                       0.0  6    1    3      0  \n",
       "2                       0.0  6    1    3      0  \n",
       "3                       0.0  6    1    3      0  \n",
       "4                       0.0  6    2    3      0  "
      ]
     },
     "execution_count": 6,
     "metadata": {},
     "output_type": "execute_result"
    }
   ],
   "source": [
    "kyotp_int = pd.read_csv(\"preparedData03-06_15Int.csv\",index_col=[0])\n",
    "kyotp_int.head()"
   ]
  },
  {
   "cell_type": "code",
   "execution_count": 14,
   "id": "7bb4b29c-1d00-4530-bd08-7cebfb25fdc7",
   "metadata": {},
   "outputs": [],
   "source": [
    "kyotp_int = kyotp_int.drop_duplicates()"
   ]
  },
  {
   "cell_type": "code",
   "execution_count": 15,
   "id": "945c299a-39d9-413d-a7f7-551b46964b76",
   "metadata": {},
   "outputs": [],
   "source": [
    "X = kyotp_int.drop(\"Label\",axis = 1)\n",
    "y =  kyotp_int.Label"
   ]
  },
  {
   "cell_type": "code",
   "execution_count": 16,
   "id": "bcc1ce73-7d66-4036-a929-f5f5c404f293",
   "metadata": {},
   "outputs": [],
   "source": [
    "from sklearn.model_selection import train_test_split\n",
    "X_train, X_test, y_train, y_test = train_test_split(X, y, test_size=0.33, random_state=42)"
   ]
  },
  {
   "cell_type": "code",
   "execution_count": 17,
   "id": "fbb50bf7-979b-4966-beb8-733013314c20",
   "metadata": {},
   "outputs": [
    {
     "data": {
      "text/html": [
       "<div>\n",
       "<style scoped>\n",
       "    .dataframe tbody tr th:only-of-type {\n",
       "        vertical-align: middle;\n",
       "    }\n",
       "\n",
       "    .dataframe tbody tr th {\n",
       "        vertical-align: top;\n",
       "    }\n",
       "\n",
       "    .dataframe thead th {\n",
       "        text-align: right;\n",
       "    }\n",
       "</style>\n",
       "<table border=\"1\" class=\"dataframe\">\n",
       "  <thead>\n",
       "    <tr style=\"text-align: right;\">\n",
       "      <th></th>\n",
       "      <th>Duration</th>\n",
       "      <th>Source bytes</th>\n",
       "      <th>Destination bytes</th>\n",
       "      <th>Count</th>\n",
       "      <th>Same srv rate</th>\n",
       "      <th>Serror rate</th>\n",
       "      <th>Srv serror rate</th>\n",
       "      <th>Dst host count</th>\n",
       "      <th>Dst host srv count</th>\n",
       "      <th>Dst host same src port rate</th>\n",
       "      <th>Dst host serror rate</th>\n",
       "      <th>Dst host srv serror rate</th>\n",
       "      <th>0</th>\n",
       "      <th>0.1</th>\n",
       "      <th>0.2</th>\n",
       "    </tr>\n",
       "  </thead>\n",
       "  <tbody>\n",
       "    <tr>\n",
       "      <th>3463707</th>\n",
       "      <td>1.328432e-05</td>\n",
       "      <td>2.561731e-07</td>\n",
       "      <td>1.309427e-06</td>\n",
       "      <td>0.02</td>\n",
       "      <td>1.0</td>\n",
       "      <td>0.0</td>\n",
       "      <td>0.00</td>\n",
       "      <td>0.29</td>\n",
       "      <td>0.29</td>\n",
       "      <td>0.0</td>\n",
       "      <td>0.0</td>\n",
       "      <td>0.0</td>\n",
       "      <td>10</td>\n",
       "      <td>1</td>\n",
       "      <td>8</td>\n",
       "    </tr>\n",
       "    <tr>\n",
       "      <th>514063</th>\n",
       "      <td>4.103422e-09</td>\n",
       "      <td>1.724242e-08</td>\n",
       "      <td>2.632273e-08</td>\n",
       "      <td>0.00</td>\n",
       "      <td>0.0</td>\n",
       "      <td>0.0</td>\n",
       "      <td>0.00</td>\n",
       "      <td>0.95</td>\n",
       "      <td>0.97</td>\n",
       "      <td>0.0</td>\n",
       "      <td>0.0</td>\n",
       "      <td>0.0</td>\n",
       "      <td>10</td>\n",
       "      <td>2</td>\n",
       "      <td>1</td>\n",
       "    </tr>\n",
       "    <tr>\n",
       "      <th>8936446</th>\n",
       "      <td>4.232387e-09</td>\n",
       "      <td>3.891861e-08</td>\n",
       "      <td>6.916168e-08</td>\n",
       "      <td>0.74</td>\n",
       "      <td>1.0</td>\n",
       "      <td>0.0</td>\n",
       "      <td>0.01</td>\n",
       "      <td>0.99</td>\n",
       "      <td>0.99</td>\n",
       "      <td>0.0</td>\n",
       "      <td>0.0</td>\n",
       "      <td>0.0</td>\n",
       "      <td>10</td>\n",
       "      <td>2</td>\n",
       "      <td>1</td>\n",
       "    </tr>\n",
       "    <tr>\n",
       "      <th>500171</th>\n",
       "      <td>4.982727e-09</td>\n",
       "      <td>2.167619e-08</td>\n",
       "      <td>3.870989e-08</td>\n",
       "      <td>0.07</td>\n",
       "      <td>1.0</td>\n",
       "      <td>0.0</td>\n",
       "      <td>0.12</td>\n",
       "      <td>0.97</td>\n",
       "      <td>0.97</td>\n",
       "      <td>0.0</td>\n",
       "      <td>0.0</td>\n",
       "      <td>0.0</td>\n",
       "      <td>10</td>\n",
       "      <td>2</td>\n",
       "      <td>1</td>\n",
       "    </tr>\n",
       "    <tr>\n",
       "      <th>8781566</th>\n",
       "      <td>8.270037e-07</td>\n",
       "      <td>4.926406e-08</td>\n",
       "      <td>2.363884e-07</td>\n",
       "      <td>0.00</td>\n",
       "      <td>0.0</td>\n",
       "      <td>0.0</td>\n",
       "      <td>0.00</td>\n",
       "      <td>0.46</td>\n",
       "      <td>0.50</td>\n",
       "      <td>1.0</td>\n",
       "      <td>0.0</td>\n",
       "      <td>0.0</td>\n",
       "      <td>10</td>\n",
       "      <td>2</td>\n",
       "      <td>1</td>\n",
       "    </tr>\n",
       "  </tbody>\n",
       "</table>\n",
       "</div>"
      ],
      "text/plain": [
       "             Duration  Source bytes  Destination bytes  Count  Same srv rate  \\\n",
       "3463707  1.328432e-05  2.561731e-07       1.309427e-06   0.02            1.0   \n",
       "514063   4.103422e-09  1.724242e-08       2.632273e-08   0.00            0.0   \n",
       "8936446  4.232387e-09  3.891861e-08       6.916168e-08   0.74            1.0   \n",
       "500171   4.982727e-09  2.167619e-08       3.870989e-08   0.07            1.0   \n",
       "8781566  8.270037e-07  4.926406e-08       2.363884e-07   0.00            0.0   \n",
       "\n",
       "         Serror rate  Srv serror rate  Dst host count  Dst host srv count  \\\n",
       "3463707          0.0             0.00            0.29                0.29   \n",
       "514063           0.0             0.00            0.95                0.97   \n",
       "8936446          0.0             0.01            0.99                0.99   \n",
       "500171           0.0             0.12            0.97                0.97   \n",
       "8781566          0.0             0.00            0.46                0.50   \n",
       "\n",
       "         Dst host same src port rate  Dst host serror rate  \\\n",
       "3463707                          0.0                   0.0   \n",
       "514063                           0.0                   0.0   \n",
       "8936446                          0.0                   0.0   \n",
       "500171                           0.0                   0.0   \n",
       "8781566                          1.0                   0.0   \n",
       "\n",
       "         Dst host srv serror rate   0  0.1  0.2  \n",
       "3463707                       0.0  10    1    8  \n",
       "514063                        0.0  10    2    1  \n",
       "8936446                       0.0  10    2    1  \n",
       "500171                        0.0  10    2    1  \n",
       "8781566                       0.0  10    2    1  "
      ]
     },
     "execution_count": 17,
     "metadata": {},
     "output_type": "execute_result"
    }
   ],
   "source": [
    "X_train.head()"
   ]
  },
  {
   "cell_type": "code",
   "execution_count": 20,
   "id": "089c14e0-78b7-4354-a8b4-b6f28ac3f86d",
   "metadata": {},
   "outputs": [
    {
     "name": "stdout",
     "output_type": "stream",
     "text": [
      "154165 / 1648171\n"
     ]
    }
   ],
   "source": [
    "print(str(sum(y_test)) + \" / \" + str(len(y_test)))"
   ]
  },
  {
   "cell_type": "code",
   "execution_count": 21,
   "id": "ef157e48-08ba-4057-aa5b-743cf45d68c3",
   "metadata": {},
   "outputs": [
    {
     "name": "stdout",
     "output_type": "stream",
     "text": [
      "313558 / 3346286\n"
     ]
    }
   ],
   "source": [
    "print(str(sum(y_train)) + \" / \" + str(len(y_train)))"
   ]
  },
  {
   "cell_type": "code",
   "execution_count": 22,
   "id": "ceabb11b-fa47-4b02-9706-fe28e7764896",
   "metadata": {},
   "outputs": [
    {
     "data": {
      "text/plain": [
       "(4994457, 16)"
      ]
     },
     "execution_count": 22,
     "metadata": {},
     "output_type": "execute_result"
    }
   ],
   "source": [
    "kyotp_int.shape"
   ]
  },
  {
   "cell_type": "markdown",
   "id": "f89181e1-9a2a-4124-a331-2e40eaf68cb1",
   "metadata": {},
   "source": [
    "## train"
   ]
  },
  {
   "cell_type": "code",
   "execution_count": 19,
   "id": "ac67b2ec-b641-4327-83bd-372d68aaccfa",
   "metadata": {},
   "outputs": [
    {
     "name": "stdout",
     "output_type": "stream",
     "text": [
      "score: 0.9682861535199322\n",
      "score: 0.9478545714007719\n",
      "score: 0.9723255518385407\n",
      "score: 0.9579614326874856\n"
     ]
    }
   ],
   "source": [
    "from sklearn.ensemble import HistGradientBoostingClassifier\n",
    "clfhg = HistGradientBoostingClassifier(learning_rate = 0.02, max_depth = 20, max_iter = 600,max_leaf_nodes = 31, min_samples_leaf = 15, categorical_features=[12,13,14])\n",
    "clfhg.fit(X_train, y_train)\n",
    "y_pred = clfhg.predict(X_test)\n",
    "from sklearn.metrics import precision_score\n",
    "print(\"score: \" + str(precision_score(y_test, y_pred)))\n",
    "from sklearn.metrics import recall_score\n",
    "print(\"score: \" + str(recall_score(y_test, y_pred)))\n",
    "from sklearn.metrics import roc_auc_score\n",
    "print(\"score: \" + str(roc_auc_score(y_test, y_pred)))\n",
    "from sklearn.metrics import f1_score\n",
    "print(\"score: \" + str(f1_score(y_test, y_pred)))"
   ]
  },
  {
   "cell_type": "code",
   "execution_count": 22,
   "id": "18ee815e",
   "metadata": {},
   "outputs": [
    {
     "name": "stdout",
     "output_type": "stream",
     "text": [
      "# Tuning hyper-parameters for f1\n",
      "\n",
      "Best parameters set found on development set:\n",
      "\n",
      "{'learning_rate': 0.03, 'max_depth': 20, 'max_iter': 600, 'max_leaf_nodes': 31, 'min_samples_leaf': 15}\n",
      "\n",
      "Grid scores on development set:\n",
      "\n",
      "0.817 (+/-0.004) for {'learning_rate': 0.03, 'max_depth': 30, 'max_iter': 800, 'max_leaf_nodes': 31, 'min_samples_leaf': 10}\n",
      "0.817 (+/-0.004) for {'learning_rate': 0.03, 'max_depth': 30, 'max_iter': 800, 'max_leaf_nodes': 31, 'min_samples_leaf': 15}\n",
      "0.817 (+/-0.004) for {'learning_rate': 0.03, 'max_depth': 30, 'max_iter': 600, 'max_leaf_nodes': 31, 'min_samples_leaf': 10}\n",
      "0.817 (+/-0.004) for {'learning_rate': 0.03, 'max_depth': 30, 'max_iter': 600, 'max_leaf_nodes': 31, 'min_samples_leaf': 15}\n",
      "0.817 (+/-0.004) for {'learning_rate': 0.03, 'max_depth': 20, 'max_iter': 800, 'max_leaf_nodes': 31, 'min_samples_leaf': 10}\n",
      "0.817 (+/-0.004) for {'learning_rate': 0.03, 'max_depth': 20, 'max_iter': 800, 'max_leaf_nodes': 31, 'min_samples_leaf': 15}\n",
      "0.817 (+/-0.004) for {'learning_rate': 0.03, 'max_depth': 20, 'max_iter': 600, 'max_leaf_nodes': 31, 'min_samples_leaf': 10}\n",
      "0.817 (+/-0.004) for {'learning_rate': 0.03, 'max_depth': 20, 'max_iter': 600, 'max_leaf_nodes': 31, 'min_samples_leaf': 15}\n",
      "0.817 (+/-0.004) for {'learning_rate': 0.03, 'max_depth': 40, 'max_iter': 800, 'max_leaf_nodes': 31, 'min_samples_leaf': 10}\n",
      "0.817 (+/-0.004) for {'learning_rate': 0.03, 'max_depth': 40, 'max_iter': 800, 'max_leaf_nodes': 31, 'min_samples_leaf': 15}\n",
      "0.817 (+/-0.004) for {'learning_rate': 0.03, 'max_depth': 40, 'max_iter': 600, 'max_leaf_nodes': 31, 'min_samples_leaf': 10}\n",
      "0.817 (+/-0.004) for {'learning_rate': 0.03, 'max_depth': 40, 'max_iter': 600, 'max_leaf_nodes': 31, 'min_samples_leaf': 15}\n",
      "\n",
      "Detailed classification report:\n",
      "\n",
      "The model is trained on the full development set.\n",
      "The scores are computed on the full evaluation set.\n",
      "\n",
      "              precision    recall  f1-score   support\n",
      "\n",
      "       False       0.98      0.98      0.98    116236\n",
      "        True       0.74      0.76      0.75      9711\n",
      "\n",
      "    accuracy                           0.96    125947\n",
      "   macro avg       0.86      0.87      0.86    125947\n",
      "weighted avg       0.96      0.96      0.96    125947\n",
      "\n",
      "\n"
     ]
    }
   ],
   "source": [
    "#{'learning_rate': 0.03, 'max_depth': 20, 'max_iter': 600, 'max_leaf_nodes': 31, 'min_samples_leaf': 15}\n",
    "import sklearn\n",
    "from sklearn.model_selection import GridSearchCV\n",
    "from sklearn.metrics import classification_report\n",
    "from sklearn.experimental import enable_hist_gradient_boosting\n",
    "from sklearn.ensemble import HistGradientBoostingClassifier\n",
    "\n",
    "parameters = [{'learning_rate':[0.1,0.5,0.003],'max_iter':[100,200],'max_depth' : [10,20,50],'min_samples_leaf':[10,20,30], 'max_leaf_nodes':[15,31,63] }]\n",
    "parameters = [{'learning_rate':[0.5,0.003],'max_iter':[100,200]}]\n",
    "parameters = [{'learning_rate':[0.03],'max_iter':[800,600],'max_depth' : [30,20,40],'min_samples_leaf':[10,15], 'max_leaf_nodes':[31] }]\n",
    "scores = ['f1']\n",
    "# {'learning_rate': 0.03, 'max_depth': 50, 'max_iter': 400, 'max_leaf_nodes': 31, 'min_samples_leaf': 10}\n",
    "#{'learning_rate': 0.03, 'max_depth': 40, 'max_iter': 600, 'max_leaf_nodes': 31, 'min_samples_leaf': 10}\n",
    "for score in scores:\n",
    "    print(\"# Tuning hyper-parameters for %s\" % score)\n",
    "    print()\n",
    "\n",
    "    clf = GridSearchCV(HistGradientBoostingClassifier(), parameters, scoring=score)\n",
    "    clf.fit(X_train, y_train)\n",
    "\n",
    "    print(\"Best parameters set found on development set:\")\n",
    "    print()\n",
    "    print(clf.best_params_)\n",
    "    print()\n",
    "    print(\"Grid scores on development set:\")\n",
    "    print()\n",
    "    means = clf.cv_results_['mean_test_score']\n",
    "    stds = clf.cv_results_['std_test_score']\n",
    "    f = open(\"HistGradientBoostingClassifierParamsearch.txt\", \"a\")\n",
    "   \n",
    "    \n",
    "    for mean, std, params in zip(means, stds, clf.cv_results_['params']):\n",
    "        f.write(\"%0.3f (+/-%0.03f) for %r\"\n",
    "              % (mean, std * 2, params))\n",
    "        print(\"%0.3f (+/-%0.03f) for %r\"\n",
    "              % (mean, std * 2, params))\n",
    "    print()\n",
    "    f.close()\n",
    "    print(\"Detailed classification report:\")\n",
    "    print()\n",
    "    print(\"The model is trained on the full development set.\")\n",
    "    print(\"The scores are computed on the full evaluation set.\")\n",
    "    print()\n",
    "    y_true, y_pred = y_test, clf.predict(X_test)\n",
    "    print(classification_report(y_true, y_pred))\n",
    "    print()\n",
    "    f = open(\"HistGradientBoostingClassifierParamsearch.txt\", \"a\")\n",
    "    f.write(\"classification_report(y_true, y_pred)\")\n",
    "    f.close()"
   ]
  },
  {
   "cell_type": "code",
   "execution_count": 1,
   "id": "03efe761-734f-43ca-a1d7-9cc3396cdf4a",
   "metadata": {},
   "outputs": [],
   "source": [
    "f = open(\"demofile2.txt\", \"a\")\n",
    "f.write(\"Now the file has more content!\")\n",
    "f.close()"
   ]
  },
  {
   "cell_type": "code",
   "execution_count": null,
   "id": "26a14d9d",
   "metadata": {},
   "outputs": [],
   "source": [
    "y_pred = clf.predict(X_test)\n",
    "from sklearn.metrics import precision_score\n",
    "print(\"score: \" + str(precision_score(y_test, y_pred)))"
   ]
  },
  {
   "cell_type": "code",
   "execution_count": null,
   "id": "35b0f183",
   "metadata": {},
   "outputs": [],
   "source": [
    "y_pred = clf.predict(X_test)\n",
    "from sklearn.metrics import recall_score\n",
    "print(\"score: \" + str(recall_score(y_test, y_pred)))"
   ]
  },
  {
   "cell_type": "code",
   "execution_count": null,
   "id": "8465612a",
   "metadata": {},
   "outputs": [],
   "source": [
    "np.sum([y_test])"
   ]
  },
  {
   "cell_type": "code",
   "execution_count": null,
   "id": "c1946da2",
   "metadata": {},
   "outputs": [],
   "source": [
    "np.sum([y_pred])"
   ]
  },
  {
   "cell_type": "code",
   "execution_count": null,
   "id": "7a4556e9",
   "metadata": {},
   "outputs": [],
   "source": [
    "y_pred = clf.predict(X_test[:50])"
   ]
  },
  {
   "cell_type": "code",
   "execution_count": null,
   "id": "0f35afc0",
   "metadata": {},
   "outputs": [],
   "source": [
    "y_pred"
   ]
  },
  {
   "cell_type": "code",
   "execution_count": null,
   "id": "0eeeb0be",
   "metadata": {},
   "outputs": [],
   "source": [
    "y_test[:50]"
   ]
  },
  {
   "cell_type": "code",
   "execution_count": null,
   "id": "5b8a2818",
   "metadata": {},
   "outputs": [],
   "source": [
    "import matplotlib.pyplot as plt\n",
    "importances = clf.feature_importances_\n",
    "forest_importances = pd.Series(importances, index = X.columns)\n",
    "\n",
    "fig, ax = plt.subplots()\n",
    "forest_importances.plot.bar()\n",
    "ax.set_title(\"Feature importances using MDI\")\n",
    "ax.set_ylabel(\"Mean decrease in impurity\")\n",
    "fig.tight_layout()"
   ]
  },
  {
   "cell_type": "code",
   "execution_count": null,
   "id": "1fbec88d",
   "metadata": {},
   "outputs": [],
   "source": []
  }
 ],
 "metadata": {
  "kernelspec": {
   "display_name": "Python 3 (ipykernel)",
   "language": "python",
   "name": "python3"
  },
  "language_info": {
   "codemirror_mode": {
    "name": "ipython",
    "version": 3
   },
   "file_extension": ".py",
   "mimetype": "text/x-python",
   "name": "python",
   "nbconvert_exporter": "python",
   "pygments_lexer": "ipython3",
   "version": "3.7.11"
  }
 },
 "nbformat": 4,
 "nbformat_minor": 5
}
